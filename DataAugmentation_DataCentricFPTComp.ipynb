{
  "nbformat": 4,
  "nbformat_minor": 0,
  "metadata": {
    "colab": {
      "name": "DataAugmentation_DataCentricFPTComp.ipynb",
      "provenance": [],
      "collapsed_sections": [],
      "authorship_tag": "ABX9TyP7Iq78qNEqV9CYx5HWC+JI",
      "include_colab_link": true
    },
    "kernelspec": {
      "name": "python3",
      "display_name": "Python 3"
    },
    "language_info": {
      "name": "python"
    }
  },
  "cells": [
    {
      "cell_type": "markdown",
      "metadata": {
        "id": "view-in-github",
        "colab_type": "text"
      },
      "source": [
        "<a href=\"https://colab.research.google.com/github/MinhVuong2000/DataComp_Centric_FPT/blob/main/DataAugmentation_DataCentricFPTComp.ipynb\" target=\"_parent\"><img src=\"https://colab.research.google.com/assets/colab-badge.svg\" alt=\"Open In Colab\"/></a>"
      ]
    },
    {
      "cell_type": "markdown",
      "metadata": {
        "id": "8ZH3wPopiGb7"
      },
      "source": [
        "# Get data"
      ]
    },
    {
      "cell_type": "code",
      "metadata": {
        "colab": {
          "base_uri": "https://localhost:8080/"
        },
        "id": "qPfnstY4iM0r",
        "outputId": "00c29a47-3f5c-413d-80ff-24db5a06990a"
      },
      "source": [
        "from google.colab import drive\n",
        "\n",
        "drive.mount('/content/drive')\n",
        "!ls"
      ],
      "execution_count": null,
      "outputs": [
        {
          "output_type": "stream",
          "name": "stdout",
          "text": [
            "Drive already mounted at /content/drive; to attempt to forcibly remount, call drive.mount(\"/content/drive\", force_remount=True).\n",
            "dataset  drive\tsample_data\n"
          ]
        }
      ]
    },
    {
      "cell_type": "code",
      "metadata": {
        "id": "Wyx4smkBerrJ",
        "colab": {
          "base_uri": "https://localhost:8080/"
        },
        "outputId": "145c8dec-067c-4a88-ea1f-2478f78409e0"
      },
      "source": [
        "!unzip 'drive/MyDrive/dataset_FPTCentric.zip' -d '/content'"
      ],
      "execution_count": null,
      "outputs": [
        {
          "output_type": "stream",
          "name": "stdout",
          "text": [
            "Archive:  drive/MyDrive/dataset_FPTCentric.zip\n",
            " extracting: /content/dataset/images/public_test/1000.jpg  \n",
            " extracting: /content/dataset/images/public_test/1001.jpg  \n",
            " extracting: /content/dataset/images/public_test/1002.jpg  \n",
            " extracting: /content/dataset/images/public_test/1003.jpg  \n",
            " extracting: /content/dataset/images/public_test/1004.jpg  \n",
            " extracting: /content/dataset/images/public_test/1005.jpg  \n",
            " extracting: /content/dataset/images/public_test/1006.jpg  \n",
            " extracting: /content/dataset/images/public_test/1007.jpg  \n",
            " extracting: /content/dataset/images/public_test/1008.jpg  \n",
            " extracting: /content/dataset/images/public_test/1009.jpg  \n",
            " extracting: /content/dataset/images/public_test/1010.jpg  \n",
            " extracting: /content/dataset/images/public_test/1011.jpg  \n",
            " extracting: /content/dataset/images/public_test/1012.jpg  \n",
            " extracting: /content/dataset/images/public_test/1013.jpg  \n",
            " extracting: /content/dataset/images/public_test/1014.jpg  \n",
            " extracting: /content/dataset/images/public_test/1015.jpg  \n",
            " extracting: /content/dataset/images/public_test/1016.jpg  \n",
            " extracting: /content/dataset/images/public_test/1017.jpg  \n",
            " extracting: /content/dataset/images/public_test/1018.jpg  \n",
            " extracting: /content/dataset/images/public_test/1019.jpg  \n",
            " extracting: /content/dataset/images/public_test/1020.jpg  \n",
            " extracting: /content/dataset/images/public_test/1021.jpg  \n",
            " extracting: /content/dataset/images/public_test/1022.jpg  \n",
            " extracting: /content/dataset/images/public_test/1023.jpg  \n",
            " extracting: /content/dataset/images/public_test/1024.jpg  \n",
            " extracting: /content/dataset/images/public_test/1025.jpg  \n",
            " extracting: /content/dataset/images/public_test/1026.jpg  \n",
            " extracting: /content/dataset/images/public_test/1027.jpg  \n",
            " extracting: /content/dataset/images/public_test/1028.jpg  \n",
            " extracting: /content/dataset/images/public_test/1029.jpg  \n",
            " extracting: /content/dataset/images/public_test/1030.jpg  \n",
            " extracting: /content/dataset/images/public_test/1031.jpg  \n",
            " extracting: /content/dataset/images/public_test/1032.jpg  \n",
            " extracting: /content/dataset/images/public_test/1033.jpg  \n",
            " extracting: /content/dataset/images/public_test/1034.jpg  \n",
            " extracting: /content/dataset/images/public_test/1035.jpg  \n",
            " extracting: /content/dataset/images/public_test/1036.jpg  \n",
            " extracting: /content/dataset/images/public_test/1037.jpg  \n",
            " extracting: /content/dataset/images/public_test/1038.jpg  \n",
            " extracting: /content/dataset/images/public_test/1039.jpg  \n",
            " extracting: /content/dataset/images/public_test/1040.jpg  \n",
            " extracting: /content/dataset/images/public_test/1041.jpg  \n",
            " extracting: /content/dataset/images/public_test/1042.jpg  \n",
            " extracting: /content/dataset/images/public_test/1043.jpg  \n",
            " extracting: /content/dataset/images/public_test/1044.jpg  \n",
            " extracting: /content/dataset/images/public_test/1045.jpg  \n",
            " extracting: /content/dataset/images/public_test/1046.jpg  \n",
            " extracting: /content/dataset/images/public_test/1047.jpg  \n",
            " extracting: /content/dataset/images/public_test/1048.jpg  \n",
            " extracting: /content/dataset/images/public_test/1049.jpg  \n",
            " extracting: /content/dataset/images/public_test/1050.jpg  \n",
            " extracting: /content/dataset/images/public_test/1051.jpg  \n",
            " extracting: /content/dataset/images/public_test/1052.jpg  \n",
            " extracting: /content/dataset/images/public_test/1053.jpg  \n",
            " extracting: /content/dataset/images/public_test/1054.jpg  \n",
            " extracting: /content/dataset/images/public_test/1055.jpg  \n",
            " extracting: /content/dataset/images/public_test/1056.jpg  \n",
            " extracting: /content/dataset/images/public_test/1057.jpg  \n",
            " extracting: /content/dataset/images/public_test/1058.jpg  \n",
            " extracting: /content/dataset/images/public_test/1059.jpg  \n",
            " extracting: /content/dataset/images/public_test/1060.jpg  \n",
            " extracting: /content/dataset/images/public_test/1061.jpg  \n",
            " extracting: /content/dataset/images/public_test/1062.jpg  \n",
            " extracting: /content/dataset/images/public_test/1063.jpg  \n",
            " extracting: /content/dataset/images/public_test/1064.jpg  \n",
            " extracting: /content/dataset/images/public_test/977.jpg  \n",
            " extracting: /content/dataset/images/public_test/978.jpg  \n",
            " extracting: /content/dataset/images/public_test/979.jpg  \n",
            " extracting: /content/dataset/images/public_test/980.jpg  \n",
            " extracting: /content/dataset/images/public_test/981.jpg  \n",
            " extracting: /content/dataset/images/public_test/982.jpg  \n",
            " extracting: /content/dataset/images/public_test/983.jpg  \n",
            " extracting: /content/dataset/images/public_test/984.jpg  \n",
            " extracting: /content/dataset/images/public_test/985.jpg  \n",
            " extracting: /content/dataset/images/public_test/986.jpg  \n",
            " extracting: /content/dataset/images/public_test/987.jpg  \n",
            " extracting: /content/dataset/images/public_test/988.jpg  \n",
            " extracting: /content/dataset/images/public_test/989.jpg  \n",
            " extracting: /content/dataset/images/public_test/990.jpg  \n",
            " extracting: /content/dataset/images/public_test/991.jpg  \n",
            " extracting: /content/dataset/images/public_test/992.jpg  \n",
            " extracting: /content/dataset/images/public_test/993.jpg  \n",
            " extracting: /content/dataset/images/public_test/994.jpg  \n",
            " extracting: /content/dataset/images/public_test/995.jpg  \n",
            " extracting: /content/dataset/images/public_test/996.jpg  \n",
            " extracting: /content/dataset/images/public_test/997.jpg  \n",
            " extracting: /content/dataset/images/public_test/998.jpg  \n",
            " extracting: /content/dataset/images/public_test/999.jpg  \n",
            " extracting: /content/dataset/images/train/1.jpg  \n",
            " extracting: /content/dataset/images/train/10.jpg  \n",
            " extracting: /content/dataset/images/train/100.jpg  \n",
            " extracting: /content/dataset/images/train/101.jpg  \n",
            " extracting: /content/dataset/images/train/102.jpg  \n",
            " extracting: /content/dataset/images/train/103.jpg  \n",
            " extracting: /content/dataset/images/train/104.jpg  \n",
            " extracting: /content/dataset/images/train/105.jpg  \n",
            " extracting: /content/dataset/images/train/106.jpg  \n",
            " extracting: /content/dataset/images/train/107.jpg  \n",
            " extracting: /content/dataset/images/train/108.jpg  \n",
            " extracting: /content/dataset/images/train/109.jpg  \n",
            " extracting: /content/dataset/images/train/11.jpg  \n",
            " extracting: /content/dataset/images/train/110.jpg  \n",
            " extracting: /content/dataset/images/train/111.jpg  \n",
            " extracting: /content/dataset/images/train/112.jpg  \n",
            " extracting: /content/dataset/images/train/113.jpg  \n",
            " extracting: /content/dataset/images/train/114.jpg  \n",
            " extracting: /content/dataset/images/train/115.jpg  \n",
            " extracting: /content/dataset/images/train/116.jpg  \n",
            " extracting: /content/dataset/images/train/117.jpg  \n",
            " extracting: /content/dataset/images/train/118.jpg  \n",
            " extracting: /content/dataset/images/train/119.jpg  \n",
            " extracting: /content/dataset/images/train/12.jpg  \n",
            " extracting: /content/dataset/images/train/120.jpg  \n",
            " extracting: /content/dataset/images/train/121.jpg  \n",
            " extracting: /content/dataset/images/train/122.jpg  \n",
            " extracting: /content/dataset/images/train/123.jpg  \n",
            " extracting: /content/dataset/images/train/124.jpg  \n",
            " extracting: /content/dataset/images/train/125.jpg  \n",
            " extracting: /content/dataset/images/train/126.jpg  \n",
            " extracting: /content/dataset/images/train/127.jpg  \n",
            " extracting: /content/dataset/images/train/128.jpg  \n",
            " extracting: /content/dataset/images/train/129.jpg  \n",
            " extracting: /content/dataset/images/train/13.jpg  \n",
            " extracting: /content/dataset/images/train/130.jpg  \n",
            " extracting: /content/dataset/images/train/131.jpg  \n",
            " extracting: /content/dataset/images/train/132.jpg  \n",
            " extracting: /content/dataset/images/train/133.jpg  \n",
            " extracting: /content/dataset/images/train/134.jpg  \n",
            " extracting: /content/dataset/images/train/135.jpg  \n",
            " extracting: /content/dataset/images/train/136.jpg  \n",
            " extracting: /content/dataset/images/train/137.jpg  \n",
            " extracting: /content/dataset/images/train/138.jpg  \n",
            " extracting: /content/dataset/images/train/139.jpg  \n",
            " extracting: /content/dataset/images/train/14.jpg  \n",
            " extracting: /content/dataset/images/train/140.jpg  \n",
            " extracting: /content/dataset/images/train/141.jpg  \n",
            " extracting: /content/dataset/images/train/142.jpg  \n",
            " extracting: /content/dataset/images/train/143.jpg  \n",
            " extracting: /content/dataset/images/train/144.jpg  \n",
            " extracting: /content/dataset/images/train/145.jpg  \n",
            " extracting: /content/dataset/images/train/146.jpg  \n",
            " extracting: /content/dataset/images/train/147.jpg  \n",
            " extracting: /content/dataset/images/train/148.jpg  \n",
            " extracting: /content/dataset/images/train/149.jpg  \n",
            " extracting: /content/dataset/images/train/15.jpg  \n",
            " extracting: /content/dataset/images/train/150.jpg  \n",
            " extracting: /content/dataset/images/train/151.jpg  \n",
            " extracting: /content/dataset/images/train/152.jpg  \n",
            " extracting: /content/dataset/images/train/153.jpg  \n",
            " extracting: /content/dataset/images/train/154.jpg  \n",
            " extracting: /content/dataset/images/train/155.jpg  \n",
            " extracting: /content/dataset/images/train/156.jpg  \n",
            " extracting: /content/dataset/images/train/157.jpg  \n",
            " extracting: /content/dataset/images/train/158.jpg  \n",
            " extracting: /content/dataset/images/train/159.jpg  \n",
            " extracting: /content/dataset/images/train/16.jpg  \n",
            " extracting: /content/dataset/images/train/160.jpg  \n",
            " extracting: /content/dataset/images/train/161.jpg  \n",
            " extracting: /content/dataset/images/train/162.jpg  \n",
            " extracting: /content/dataset/images/train/163.jpg  \n",
            " extracting: /content/dataset/images/train/164.jpg  \n",
            " extracting: /content/dataset/images/train/165.jpg  \n",
            " extracting: /content/dataset/images/train/166.jpg  \n",
            " extracting: /content/dataset/images/train/167.jpg  \n",
            " extracting: /content/dataset/images/train/168.jpg  \n",
            " extracting: /content/dataset/images/train/169.jpg  \n",
            " extracting: /content/dataset/images/train/17.jpg  \n",
            " extracting: /content/dataset/images/train/170.jpg  \n",
            " extracting: /content/dataset/images/train/171.jpg  \n",
            " extracting: /content/dataset/images/train/172.jpg  \n",
            " extracting: /content/dataset/images/train/173.jpg  \n",
            " extracting: /content/dataset/images/train/174.jpg  \n",
            " extracting: /content/dataset/images/train/175.jpg  \n",
            " extracting: /content/dataset/images/train/176.jpg  \n",
            " extracting: /content/dataset/images/train/177.jpg  \n",
            " extracting: /content/dataset/images/train/178.jpg  \n",
            " extracting: /content/dataset/images/train/179.jpg  \n",
            " extracting: /content/dataset/images/train/18.jpg  \n",
            " extracting: /content/dataset/images/train/180.jpg  \n",
            " extracting: /content/dataset/images/train/181.jpg  \n",
            " extracting: /content/dataset/images/train/182.jpg  \n",
            " extracting: /content/dataset/images/train/183.jpg  \n",
            " extracting: /content/dataset/images/train/184.jpg  \n",
            " extracting: /content/dataset/images/train/185.jpg  \n",
            " extracting: /content/dataset/images/train/186.jpg  \n",
            " extracting: /content/dataset/images/train/187.jpg  \n",
            " extracting: /content/dataset/images/train/188.jpg  \n",
            " extracting: /content/dataset/images/train/189.jpg  \n",
            " extracting: /content/dataset/images/train/19.jpg  \n",
            " extracting: /content/dataset/images/train/190.jpg  \n",
            " extracting: /content/dataset/images/train/191.jpg  \n",
            " extracting: /content/dataset/images/train/192.jpg  \n",
            " extracting: /content/dataset/images/train/193.jpg  \n",
            " extracting: /content/dataset/images/train/194.jpg  \n",
            " extracting: /content/dataset/images/train/195.jpg  \n",
            " extracting: /content/dataset/images/train/196.jpg  \n",
            " extracting: /content/dataset/images/train/197.jpg  \n",
            " extracting: /content/dataset/images/train/198.jpg  \n",
            " extracting: /content/dataset/images/train/199.jpg  \n",
            " extracting: /content/dataset/images/train/2.jpg  \n",
            " extracting: /content/dataset/images/train/20.jpg  \n",
            " extracting: /content/dataset/images/train/200.jpg  \n",
            " extracting: /content/dataset/images/train/201.jpg  \n",
            " extracting: /content/dataset/images/train/202.jpg  \n",
            " extracting: /content/dataset/images/train/203.jpg  \n",
            " extracting: /content/dataset/images/train/204.jpg  \n",
            " extracting: /content/dataset/images/train/205.jpg  \n",
            " extracting: /content/dataset/images/train/206.jpg  \n",
            " extracting: /content/dataset/images/train/207.jpg  \n",
            " extracting: /content/dataset/images/train/208.jpg  \n",
            " extracting: /content/dataset/images/train/209.jpg  \n",
            " extracting: /content/dataset/images/train/21.jpg  \n",
            " extracting: /content/dataset/images/train/210.jpg  \n",
            " extracting: /content/dataset/images/train/211.jpg  \n",
            " extracting: /content/dataset/images/train/212.jpg  \n",
            " extracting: /content/dataset/images/train/213.jpg  \n",
            " extracting: /content/dataset/images/train/214.jpg  \n",
            " extracting: /content/dataset/images/train/215.jpg  \n",
            " extracting: /content/dataset/images/train/216.jpg  \n",
            " extracting: /content/dataset/images/train/217.jpg  \n",
            " extracting: /content/dataset/images/train/218.jpg  \n",
            " extracting: /content/dataset/images/train/219.jpg  \n",
            " extracting: /content/dataset/images/train/22.jpg  \n",
            " extracting: /content/dataset/images/train/220.jpg  \n",
            " extracting: /content/dataset/images/train/221.jpg  \n",
            " extracting: /content/dataset/images/train/222.jpg  \n",
            " extracting: /content/dataset/images/train/223.jpg  \n",
            " extracting: /content/dataset/images/train/224.jpg  \n",
            " extracting: /content/dataset/images/train/225.jpg  \n",
            " extracting: /content/dataset/images/train/226.jpg  \n",
            " extracting: /content/dataset/images/train/227.jpg  \n",
            " extracting: /content/dataset/images/train/228.jpg  \n",
            " extracting: /content/dataset/images/train/229.jpg  \n",
            " extracting: /content/dataset/images/train/23.jpg  \n",
            " extracting: /content/dataset/images/train/230.jpg  \n",
            " extracting: /content/dataset/images/train/231.jpg  \n",
            " extracting: /content/dataset/images/train/232.jpg  \n",
            " extracting: /content/dataset/images/train/233.jpg  \n",
            " extracting: /content/dataset/images/train/234.jpg  \n",
            " extracting: /content/dataset/images/train/235.jpg  \n",
            " extracting: /content/dataset/images/train/236.jpg  \n",
            " extracting: /content/dataset/images/train/237.jpg  \n",
            " extracting: /content/dataset/images/train/238.jpg  \n",
            " extracting: /content/dataset/images/train/239.jpg  \n",
            " extracting: /content/dataset/images/train/24.jpg  \n",
            " extracting: /content/dataset/images/train/240.jpg  \n",
            " extracting: /content/dataset/images/train/241.jpg  \n",
            " extracting: /content/dataset/images/train/242.jpg  \n",
            " extracting: /content/dataset/images/train/243.jpg  \n",
            " extracting: /content/dataset/images/train/244.jpg  \n",
            " extracting: /content/dataset/images/train/245.jpg  \n",
            " extracting: /content/dataset/images/train/246.jpg  \n",
            " extracting: /content/dataset/images/train/247.jpg  \n",
            " extracting: /content/dataset/images/train/248.jpg  \n",
            " extracting: /content/dataset/images/train/249.jpg  \n",
            " extracting: /content/dataset/images/train/25.jpg  \n",
            " extracting: /content/dataset/images/train/250.jpg  \n",
            " extracting: /content/dataset/images/train/251.jpg  \n",
            " extracting: /content/dataset/images/train/252.jpg  \n",
            " extracting: /content/dataset/images/train/253.jpg  \n",
            " extracting: /content/dataset/images/train/254.jpg  \n",
            " extracting: /content/dataset/images/train/255.jpg  \n",
            " extracting: /content/dataset/images/train/256.jpg  \n",
            " extracting: /content/dataset/images/train/257.jpg  \n",
            " extracting: /content/dataset/images/train/258.jpg  \n",
            " extracting: /content/dataset/images/train/259.jpg  \n",
            " extracting: /content/dataset/images/train/26.jpg  \n",
            " extracting: /content/dataset/images/train/260.jpg  \n",
            " extracting: /content/dataset/images/train/261.jpg  \n",
            " extracting: /content/dataset/images/train/262.jpg  \n",
            " extracting: /content/dataset/images/train/263.jpg  \n",
            " extracting: /content/dataset/images/train/264.jpg  \n",
            " extracting: /content/dataset/images/train/265.jpg  \n",
            " extracting: /content/dataset/images/train/266.jpg  \n",
            " extracting: /content/dataset/images/train/267.jpg  \n",
            " extracting: /content/dataset/images/train/268.jpg  \n",
            " extracting: /content/dataset/images/train/269.jpg  \n",
            " extracting: /content/dataset/images/train/27.jpg  \n",
            " extracting: /content/dataset/images/train/270.jpg  \n",
            " extracting: /content/dataset/images/train/271.jpg  \n",
            " extracting: /content/dataset/images/train/272.jpg  \n",
            " extracting: /content/dataset/images/train/273.jpg  \n",
            " extracting: /content/dataset/images/train/274.jpg  \n",
            " extracting: /content/dataset/images/train/275.jpg  \n",
            " extracting: /content/dataset/images/train/276.jpg  \n",
            " extracting: /content/dataset/images/train/277.jpg  \n",
            " extracting: /content/dataset/images/train/278.jpg  \n",
            " extracting: /content/dataset/images/train/279.jpg  \n",
            " extracting: /content/dataset/images/train/28.jpg  \n",
            " extracting: /content/dataset/images/train/280.jpg  \n",
            " extracting: /content/dataset/images/train/281.jpg  \n",
            " extracting: /content/dataset/images/train/282.jpg  \n",
            " extracting: /content/dataset/images/train/283.jpg  \n",
            " extracting: /content/dataset/images/train/284.jpg  \n",
            " extracting: /content/dataset/images/train/285.jpg  \n",
            " extracting: /content/dataset/images/train/286.jpg  \n",
            " extracting: /content/dataset/images/train/287.jpg  \n",
            " extracting: /content/dataset/images/train/288.jpg  \n",
            " extracting: /content/dataset/images/train/289.jpg  \n",
            " extracting: /content/dataset/images/train/29.jpg  \n",
            " extracting: /content/dataset/images/train/290.jpg  \n",
            " extracting: /content/dataset/images/train/291.jpg  \n",
            " extracting: /content/dataset/images/train/292.jpg  \n",
            " extracting: /content/dataset/images/train/293.jpg  \n",
            " extracting: /content/dataset/images/train/294.jpg  \n",
            " extracting: /content/dataset/images/train/295.jpg  \n",
            " extracting: /content/dataset/images/train/296.jpg  \n",
            " extracting: /content/dataset/images/train/297.jpg  \n",
            " extracting: /content/dataset/images/train/298.jpg  \n",
            " extracting: /content/dataset/images/train/299.jpg  \n",
            " extracting: /content/dataset/images/train/3.jpg  \n",
            " extracting: /content/dataset/images/train/30.jpg  \n",
            " extracting: /content/dataset/images/train/300.jpg  \n",
            " extracting: /content/dataset/images/train/301.jpg  \n",
            " extracting: /content/dataset/images/train/302.jpg  \n",
            " extracting: /content/dataset/images/train/303.jpg  \n",
            " extracting: /content/dataset/images/train/304.jpg  \n",
            " extracting: /content/dataset/images/train/305.jpg  \n",
            " extracting: /content/dataset/images/train/306.jpg  \n",
            " extracting: /content/dataset/images/train/307.jpg  \n",
            " extracting: /content/dataset/images/train/308.jpg  \n",
            " extracting: /content/dataset/images/train/309.jpg  \n",
            " extracting: /content/dataset/images/train/31.jpg  \n",
            " extracting: /content/dataset/images/train/310.jpg  \n",
            " extracting: /content/dataset/images/train/311.jpg  \n",
            " extracting: /content/dataset/images/train/312.jpg  \n",
            " extracting: /content/dataset/images/train/313.jpg  \n",
            " extracting: /content/dataset/images/train/314.jpg  \n",
            " extracting: /content/dataset/images/train/315.jpg  \n",
            " extracting: /content/dataset/images/train/316.jpg  \n",
            " extracting: /content/dataset/images/train/317.jpg  \n",
            " extracting: /content/dataset/images/train/318.jpg  \n",
            " extracting: /content/dataset/images/train/319.jpg  \n",
            " extracting: /content/dataset/images/train/32.jpg  \n",
            " extracting: /content/dataset/images/train/320.jpg  \n",
            " extracting: /content/dataset/images/train/321.jpg  \n",
            " extracting: /content/dataset/images/train/322.jpg  \n",
            " extracting: /content/dataset/images/train/323.jpg  \n",
            " extracting: /content/dataset/images/train/324.jpg  \n",
            " extracting: /content/dataset/images/train/325.jpg  \n",
            " extracting: /content/dataset/images/train/326.jpg  \n",
            " extracting: /content/dataset/images/train/327.jpg  \n",
            " extracting: /content/dataset/images/train/328.jpg  \n",
            " extracting: /content/dataset/images/train/329.jpg  \n",
            " extracting: /content/dataset/images/train/33.jpg  \n",
            " extracting: /content/dataset/images/train/330.jpg  \n",
            " extracting: /content/dataset/images/train/331.jpg  \n",
            " extracting: /content/dataset/images/train/332.jpg  \n",
            " extracting: /content/dataset/images/train/333.jpg  \n",
            " extracting: /content/dataset/images/train/334.jpg  \n",
            " extracting: /content/dataset/images/train/335.jpg  \n",
            " extracting: /content/dataset/images/train/336.jpg  \n",
            " extracting: /content/dataset/images/train/337.jpg  \n",
            " extracting: /content/dataset/images/train/338.jpg  \n",
            " extracting: /content/dataset/images/train/339.jpg  \n",
            " extracting: /content/dataset/images/train/34.jpg  \n",
            " extracting: /content/dataset/images/train/340.jpg  \n",
            " extracting: /content/dataset/images/train/341.jpg  \n",
            " extracting: /content/dataset/images/train/342.jpg  \n",
            " extracting: /content/dataset/images/train/343.jpg  \n",
            " extracting: /content/dataset/images/train/344.jpg  \n",
            " extracting: /content/dataset/images/train/345.jpg  \n",
            " extracting: /content/dataset/images/train/346.jpg  \n",
            " extracting: /content/dataset/images/train/347.jpg  \n",
            " extracting: /content/dataset/images/train/348.jpg  \n",
            " extracting: /content/dataset/images/train/349.jpg  \n",
            " extracting: /content/dataset/images/train/35.jpg  \n",
            " extracting: /content/dataset/images/train/350.jpg  \n",
            " extracting: /content/dataset/images/train/351.jpg  \n",
            " extracting: /content/dataset/images/train/352.jpg  \n",
            " extracting: /content/dataset/images/train/353.jpg  \n",
            " extracting: /content/dataset/images/train/354.jpg  \n",
            " extracting: /content/dataset/images/train/355.jpg  \n",
            " extracting: /content/dataset/images/train/356.jpg  \n",
            " extracting: /content/dataset/images/train/357.jpg  \n",
            " extracting: /content/dataset/images/train/358.jpg  \n",
            " extracting: /content/dataset/images/train/359.jpg  \n",
            " extracting: /content/dataset/images/train/36.jpg  \n",
            " extracting: /content/dataset/images/train/360.jpg  \n",
            " extracting: /content/dataset/images/train/361.jpg  \n",
            " extracting: /content/dataset/images/train/362.jpg  \n",
            " extracting: /content/dataset/images/train/363.jpg  \n",
            " extracting: /content/dataset/images/train/364.jpg  \n",
            " extracting: /content/dataset/images/train/365.jpg  \n",
            " extracting: /content/dataset/images/train/366.jpg  \n",
            " extracting: /content/dataset/images/train/367.jpg  \n",
            " extracting: /content/dataset/images/train/368.jpg  \n",
            " extracting: /content/dataset/images/train/369.jpg  \n",
            " extracting: /content/dataset/images/train/37.jpg  \n",
            " extracting: /content/dataset/images/train/370.jpg  \n",
            " extracting: /content/dataset/images/train/371.jpg  \n",
            " extracting: /content/dataset/images/train/372.jpg  \n",
            " extracting: /content/dataset/images/train/373.jpg  \n",
            " extracting: /content/dataset/images/train/374.jpg  \n",
            " extracting: /content/dataset/images/train/375.jpg  \n",
            " extracting: /content/dataset/images/train/376.jpg  \n",
            " extracting: /content/dataset/images/train/377.jpg  \n",
            " extracting: /content/dataset/images/train/378.jpg  \n",
            " extracting: /content/dataset/images/train/379.jpg  \n",
            " extracting: /content/dataset/images/train/38.jpg  \n",
            " extracting: /content/dataset/images/train/380.jpg  \n",
            " extracting: /content/dataset/images/train/381.jpg  \n",
            " extracting: /content/dataset/images/train/382.jpg  \n",
            " extracting: /content/dataset/images/train/383.jpg  \n",
            " extracting: /content/dataset/images/train/384.jpg  \n",
            " extracting: /content/dataset/images/train/385.jpg  \n",
            " extracting: /content/dataset/images/train/386.jpg  \n",
            " extracting: /content/dataset/images/train/387.jpg  \n",
            " extracting: /content/dataset/images/train/388.jpg  \n",
            " extracting: /content/dataset/images/train/389.jpg  \n",
            " extracting: /content/dataset/images/train/39.jpg  \n",
            " extracting: /content/dataset/images/train/390.jpg  \n",
            " extracting: /content/dataset/images/train/391.jpg  \n",
            " extracting: /content/dataset/images/train/392.jpg  \n",
            " extracting: /content/dataset/images/train/393.jpg  \n",
            " extracting: /content/dataset/images/train/394.jpg  \n",
            " extracting: /content/dataset/images/train/395.jpg  \n",
            " extracting: /content/dataset/images/train/396.jpg  \n",
            " extracting: /content/dataset/images/train/397.jpg  \n",
            " extracting: /content/dataset/images/train/398.jpg  \n",
            " extracting: /content/dataset/images/train/399.jpg  \n",
            " extracting: /content/dataset/images/train/4.jpg  \n",
            " extracting: /content/dataset/images/train/40.jpg  \n",
            " extracting: /content/dataset/images/train/400.jpg  \n",
            " extracting: /content/dataset/images/train/401.jpg  \n",
            " extracting: /content/dataset/images/train/402.jpg  \n",
            " extracting: /content/dataset/images/train/403.jpg  \n",
            " extracting: /content/dataset/images/train/404.jpg  \n",
            " extracting: /content/dataset/images/train/405.jpg  \n",
            " extracting: /content/dataset/images/train/406.jpg  \n",
            " extracting: /content/dataset/images/train/407.jpg  \n",
            " extracting: /content/dataset/images/train/408.jpg  \n",
            " extracting: /content/dataset/images/train/409.jpg  \n",
            " extracting: /content/dataset/images/train/41.jpg  \n",
            " extracting: /content/dataset/images/train/410.jpg  \n",
            " extracting: /content/dataset/images/train/411.jpg  \n",
            " extracting: /content/dataset/images/train/412.jpg  \n",
            " extracting: /content/dataset/images/train/413.jpg  \n",
            " extracting: /content/dataset/images/train/414.jpg  \n",
            " extracting: /content/dataset/images/train/415.jpg  \n",
            " extracting: /content/dataset/images/train/416.jpg  \n",
            " extracting: /content/dataset/images/train/417.jpg  \n",
            " extracting: /content/dataset/images/train/418.jpg  \n",
            " extracting: /content/dataset/images/train/419.jpg  \n",
            " extracting: /content/dataset/images/train/42.jpg  \n",
            " extracting: /content/dataset/images/train/420.jpg  \n",
            " extracting: /content/dataset/images/train/421.jpg  \n",
            " extracting: /content/dataset/images/train/422.jpg  \n",
            " extracting: /content/dataset/images/train/423.jpg  \n",
            " extracting: /content/dataset/images/train/424.jpg  \n",
            " extracting: /content/dataset/images/train/425.jpg  \n",
            " extracting: /content/dataset/images/train/426.jpg  \n",
            " extracting: /content/dataset/images/train/427.jpg  \n",
            " extracting: /content/dataset/images/train/428.jpg  \n",
            " extracting: /content/dataset/images/train/429.jpg  \n",
            " extracting: /content/dataset/images/train/43.jpg  \n",
            " extracting: /content/dataset/images/train/430.jpg  \n",
            " extracting: /content/dataset/images/train/431.jpg  \n",
            " extracting: /content/dataset/images/train/432.jpg  \n",
            " extracting: /content/dataset/images/train/433.jpg  \n",
            " extracting: /content/dataset/images/train/434.jpg  \n",
            " extracting: /content/dataset/images/train/435.jpg  \n",
            " extracting: /content/dataset/images/train/436.jpg  \n",
            " extracting: /content/dataset/images/train/437.jpg  \n",
            " extracting: /content/dataset/images/train/438.jpg  \n",
            " extracting: /content/dataset/images/train/439.jpg  \n",
            " extracting: /content/dataset/images/train/44.jpg  \n",
            " extracting: /content/dataset/images/train/440.jpg  \n",
            " extracting: /content/dataset/images/train/441.jpg  \n",
            " extracting: /content/dataset/images/train/442.jpg  \n",
            " extracting: /content/dataset/images/train/443.jpg  \n",
            " extracting: /content/dataset/images/train/444.jpg  \n",
            " extracting: /content/dataset/images/train/445.jpg  \n",
            " extracting: /content/dataset/images/train/446.jpg  \n",
            " extracting: /content/dataset/images/train/447.jpg  \n",
            " extracting: /content/dataset/images/train/448.jpg  \n",
            " extracting: /content/dataset/images/train/449.jpg  \n",
            " extracting: /content/dataset/images/train/45.jpg  \n",
            " extracting: /content/dataset/images/train/450.jpg  \n",
            " extracting: /content/dataset/images/train/451.jpg  \n",
            " extracting: /content/dataset/images/train/452.jpg  \n",
            " extracting: /content/dataset/images/train/453.jpg  \n",
            " extracting: /content/dataset/images/train/454.jpg  \n",
            " extracting: /content/dataset/images/train/455.jpg  \n",
            " extracting: /content/dataset/images/train/456.jpg  \n",
            " extracting: /content/dataset/images/train/457.jpg  \n",
            " extracting: /content/dataset/images/train/458.jpg  \n",
            " extracting: /content/dataset/images/train/459.jpg  \n",
            " extracting: /content/dataset/images/train/46.jpg  \n",
            " extracting: /content/dataset/images/train/460.jpg  \n",
            " extracting: /content/dataset/images/train/461.jpg  \n",
            " extracting: /content/dataset/images/train/462.jpg  \n",
            " extracting: /content/dataset/images/train/463.jpg  \n",
            " extracting: /content/dataset/images/train/464.jpg  \n",
            " extracting: /content/dataset/images/train/465.jpg  \n",
            " extracting: /content/dataset/images/train/466.jpg  \n",
            " extracting: /content/dataset/images/train/467.jpg  \n",
            " extracting: /content/dataset/images/train/468.jpg  \n",
            " extracting: /content/dataset/images/train/469.jpg  \n",
            " extracting: /content/dataset/images/train/47.jpg  \n",
            " extracting: /content/dataset/images/train/470.jpg  \n",
            " extracting: /content/dataset/images/train/471.jpg  \n",
            " extracting: /content/dataset/images/train/472.jpg  \n",
            " extracting: /content/dataset/images/train/473.jpg  \n",
            " extracting: /content/dataset/images/train/474.jpg  \n",
            " extracting: /content/dataset/images/train/475.jpg  \n",
            " extracting: /content/dataset/images/train/476.jpg  \n",
            " extracting: /content/dataset/images/train/477.jpg  \n",
            " extracting: /content/dataset/images/train/478.jpg  \n",
            " extracting: /content/dataset/images/train/479.jpg  \n",
            " extracting: /content/dataset/images/train/48.jpg  \n",
            " extracting: /content/dataset/images/train/480.jpg  \n",
            " extracting: /content/dataset/images/train/481.jpg  \n",
            " extracting: /content/dataset/images/train/482.jpg  \n",
            " extracting: /content/dataset/images/train/483.jpg  \n",
            " extracting: /content/dataset/images/train/484.jpg  \n",
            " extracting: /content/dataset/images/train/485.jpg  \n",
            " extracting: /content/dataset/images/train/486.jpg  \n",
            " extracting: /content/dataset/images/train/487.jpg  \n",
            " extracting: /content/dataset/images/train/488.jpg  \n",
            " extracting: /content/dataset/images/train/489.jpg  \n",
            " extracting: /content/dataset/images/train/49.jpg  \n",
            " extracting: /content/dataset/images/train/490.jpg  \n",
            " extracting: /content/dataset/images/train/491.jpg  \n",
            " extracting: /content/dataset/images/train/492.jpg  \n",
            " extracting: /content/dataset/images/train/493.jpg  \n",
            " extracting: /content/dataset/images/train/494.jpg  \n",
            " extracting: /content/dataset/images/train/495.jpg  \n",
            " extracting: /content/dataset/images/train/496.jpg  \n",
            " extracting: /content/dataset/images/train/497.jpg  \n",
            " extracting: /content/dataset/images/train/498.jpg  \n",
            " extracting: /content/dataset/images/train/499.jpg  \n",
            " extracting: /content/dataset/images/train/5.jpg  \n",
            " extracting: /content/dataset/images/train/50.jpg  \n",
            " extracting: /content/dataset/images/train/500.jpg  \n",
            " extracting: /content/dataset/images/train/501.jpg  \n",
            " extracting: /content/dataset/images/train/502.jpg  \n",
            " extracting: /content/dataset/images/train/503.jpg  \n",
            " extracting: /content/dataset/images/train/504.jpg  \n",
            " extracting: /content/dataset/images/train/505.jpg  \n",
            " extracting: /content/dataset/images/train/506.jpg  \n",
            " extracting: /content/dataset/images/train/507.jpg  \n",
            " extracting: /content/dataset/images/train/508.jpg  \n",
            " extracting: /content/dataset/images/train/509.jpg  \n",
            " extracting: /content/dataset/images/train/51.jpg  \n",
            " extracting: /content/dataset/images/train/510.jpg  \n",
            " extracting: /content/dataset/images/train/511.jpg  \n",
            " extracting: /content/dataset/images/train/512.jpg  \n",
            " extracting: /content/dataset/images/train/513.jpg  \n",
            " extracting: /content/dataset/images/train/514.jpg  \n",
            " extracting: /content/dataset/images/train/515.jpg  \n",
            " extracting: /content/dataset/images/train/516.jpg  \n",
            " extracting: /content/dataset/images/train/517.jpg  \n",
            " extracting: /content/dataset/images/train/518.jpg  \n",
            " extracting: /content/dataset/images/train/519.jpg  \n",
            " extracting: /content/dataset/images/train/52.jpg  \n",
            " extracting: /content/dataset/images/train/520.jpg  \n",
            " extracting: /content/dataset/images/train/521.jpg  \n",
            " extracting: /content/dataset/images/train/522.jpg  \n",
            " extracting: /content/dataset/images/train/523.jpg  \n",
            " extracting: /content/dataset/images/train/524.jpg  \n",
            " extracting: /content/dataset/images/train/525.jpg  \n",
            " extracting: /content/dataset/images/train/526.jpg  \n",
            " extracting: /content/dataset/images/train/527.jpg  \n",
            " extracting: /content/dataset/images/train/528.jpg  \n",
            " extracting: /content/dataset/images/train/529.jpg  \n",
            " extracting: /content/dataset/images/train/53.jpg  \n",
            " extracting: /content/dataset/images/train/530.jpg  \n",
            " extracting: /content/dataset/images/train/531.jpg  \n",
            " extracting: /content/dataset/images/train/532.jpg  \n",
            " extracting: /content/dataset/images/train/533.jpg  \n",
            " extracting: /content/dataset/images/train/534.jpg  \n",
            " extracting: /content/dataset/images/train/535.jpg  \n",
            " extracting: /content/dataset/images/train/536.jpg  \n",
            " extracting: /content/dataset/images/train/537.jpg  \n",
            " extracting: /content/dataset/images/train/538.jpg  \n",
            " extracting: /content/dataset/images/train/539.jpg  \n",
            " extracting: /content/dataset/images/train/54.jpg  \n",
            " extracting: /content/dataset/images/train/540.jpg  \n",
            " extracting: /content/dataset/images/train/541.jpg  \n",
            " extracting: /content/dataset/images/train/542.jpg  \n",
            " extracting: /content/dataset/images/train/543.jpg  \n",
            " extracting: /content/dataset/images/train/544.jpg  \n",
            " extracting: /content/dataset/images/train/545.jpg  \n",
            " extracting: /content/dataset/images/train/546.jpg  \n",
            " extracting: /content/dataset/images/train/547.jpg  \n",
            " extracting: /content/dataset/images/train/548.jpg  \n",
            " extracting: /content/dataset/images/train/549.jpg  \n",
            " extracting: /content/dataset/images/train/55.jpg  \n",
            " extracting: /content/dataset/images/train/550.jpg  \n",
            " extracting: /content/dataset/images/train/551.jpg  \n",
            " extracting: /content/dataset/images/train/552.jpg  \n",
            " extracting: /content/dataset/images/train/553.jpg  \n",
            " extracting: /content/dataset/images/train/554.jpg  \n",
            " extracting: /content/dataset/images/train/555.jpg  \n",
            " extracting: /content/dataset/images/train/556.jpg  \n",
            " extracting: /content/dataset/images/train/557.jpg  \n",
            " extracting: /content/dataset/images/train/558.jpg  \n",
            " extracting: /content/dataset/images/train/559.jpg  \n",
            " extracting: /content/dataset/images/train/56.jpg  \n",
            " extracting: /content/dataset/images/train/560.jpg  \n",
            " extracting: /content/dataset/images/train/561.jpg  \n",
            " extracting: /content/dataset/images/train/562.jpg  \n",
            " extracting: /content/dataset/images/train/563.jpg  \n",
            " extracting: /content/dataset/images/train/564.jpg  \n",
            " extracting: /content/dataset/images/train/565.jpg  \n",
            " extracting: /content/dataset/images/train/566.jpg  \n",
            " extracting: /content/dataset/images/train/567.jpg  \n",
            " extracting: /content/dataset/images/train/568.jpg  \n",
            " extracting: /content/dataset/images/train/569.jpg  \n",
            " extracting: /content/dataset/images/train/57.jpg  \n",
            " extracting: /content/dataset/images/train/570.jpg  \n",
            " extracting: /content/dataset/images/train/571.jpg  \n",
            " extracting: /content/dataset/images/train/572.jpg  \n",
            " extracting: /content/dataset/images/train/573.jpg  \n",
            " extracting: /content/dataset/images/train/574.jpg  \n",
            " extracting: /content/dataset/images/train/575.jpg  \n",
            " extracting: /content/dataset/images/train/576.jpg  \n",
            " extracting: /content/dataset/images/train/577.jpg  \n",
            " extracting: /content/dataset/images/train/578.jpg  \n",
            " extracting: /content/dataset/images/train/579.jpg  \n",
            " extracting: /content/dataset/images/train/58.jpg  \n",
            " extracting: /content/dataset/images/train/580.jpg  \n",
            " extracting: /content/dataset/images/train/581.jpg  \n",
            " extracting: /content/dataset/images/train/582.jpg  \n",
            " extracting: /content/dataset/images/train/583.jpg  \n",
            " extracting: /content/dataset/images/train/584.jpg  \n",
            " extracting: /content/dataset/images/train/585.jpg  \n",
            " extracting: /content/dataset/images/train/586.jpg  \n",
            " extracting: /content/dataset/images/train/587.jpg  \n",
            " extracting: /content/dataset/images/train/588.jpg  \n",
            " extracting: /content/dataset/images/train/589.jpg  \n",
            " extracting: /content/dataset/images/train/59.jpg  \n",
            " extracting: /content/dataset/images/train/590.jpg  \n",
            " extracting: /content/dataset/images/train/591.jpg  \n",
            " extracting: /content/dataset/images/train/592.jpg  \n",
            " extracting: /content/dataset/images/train/593.jpg  \n",
            " extracting: /content/dataset/images/train/594.jpg  \n",
            " extracting: /content/dataset/images/train/595.jpg  \n",
            " extracting: /content/dataset/images/train/596.jpg  \n",
            " extracting: /content/dataset/images/train/597.jpg  \n",
            " extracting: /content/dataset/images/train/598.jpg  \n",
            " extracting: /content/dataset/images/train/599.jpg  \n",
            " extracting: /content/dataset/images/train/6.jpg  \n",
            " extracting: /content/dataset/images/train/60.jpg  \n",
            " extracting: /content/dataset/images/train/600.jpg  \n",
            " extracting: /content/dataset/images/train/601.jpg  \n",
            " extracting: /content/dataset/images/train/602.jpg  \n",
            " extracting: /content/dataset/images/train/603.jpg  \n",
            " extracting: /content/dataset/images/train/604.jpg  \n",
            " extracting: /content/dataset/images/train/605.jpg  \n",
            " extracting: /content/dataset/images/train/606.jpg  \n",
            " extracting: /content/dataset/images/train/607.jpg  \n",
            " extracting: /content/dataset/images/train/608.jpg  \n",
            " extracting: /content/dataset/images/train/609.jpg  \n",
            " extracting: /content/dataset/images/train/61.jpg  \n",
            " extracting: /content/dataset/images/train/610.jpg  \n",
            " extracting: /content/dataset/images/train/611.jpg  \n",
            " extracting: /content/dataset/images/train/612.jpg  \n",
            " extracting: /content/dataset/images/train/613.jpg  \n",
            " extracting: /content/dataset/images/train/614.jpg  \n",
            " extracting: /content/dataset/images/train/615.jpg  \n",
            " extracting: /content/dataset/images/train/616.jpg  \n",
            " extracting: /content/dataset/images/train/617.jpg  \n",
            " extracting: /content/dataset/images/train/618.jpg  \n",
            " extracting: /content/dataset/images/train/619.jpg  \n",
            " extracting: /content/dataset/images/train/62.jpg  \n",
            " extracting: /content/dataset/images/train/620.jpg  \n",
            " extracting: /content/dataset/images/train/621.jpg  \n",
            " extracting: /content/dataset/images/train/622.jpg  \n",
            " extracting: /content/dataset/images/train/623.jpg  \n",
            " extracting: /content/dataset/images/train/624.jpg  \n",
            " extracting: /content/dataset/images/train/625.jpg  \n",
            " extracting: /content/dataset/images/train/626.jpg  \n",
            " extracting: /content/dataset/images/train/627.jpg  \n",
            " extracting: /content/dataset/images/train/628.jpg  \n",
            " extracting: /content/dataset/images/train/629.jpg  \n",
            " extracting: /content/dataset/images/train/63.jpg  \n",
            " extracting: /content/dataset/images/train/630.jpg  \n",
            " extracting: /content/dataset/images/train/631.jpg  \n",
            " extracting: /content/dataset/images/train/632.jpg  \n",
            " extracting: /content/dataset/images/train/633.jpg  \n",
            " extracting: /content/dataset/images/train/634.jpg  \n",
            " extracting: /content/dataset/images/train/635.jpg  \n",
            " extracting: /content/dataset/images/train/636.jpg  \n",
            " extracting: /content/dataset/images/train/637.jpg  \n",
            " extracting: /content/dataset/images/train/638.jpg  \n",
            " extracting: /content/dataset/images/train/639.jpg  \n",
            " extracting: /content/dataset/images/train/64.jpg  \n",
            " extracting: /content/dataset/images/train/640.jpg  \n",
            " extracting: /content/dataset/images/train/641.jpg  \n",
            " extracting: /content/dataset/images/train/642.jpg  \n",
            " extracting: /content/dataset/images/train/643.jpg  \n",
            " extracting: /content/dataset/images/train/644.jpg  \n",
            " extracting: /content/dataset/images/train/645.jpg  \n",
            " extracting: /content/dataset/images/train/646.jpg  \n",
            " extracting: /content/dataset/images/train/647.jpg  \n",
            " extracting: /content/dataset/images/train/648.jpg  \n",
            " extracting: /content/dataset/images/train/649.jpg  \n",
            " extracting: /content/dataset/images/train/65.jpg  \n",
            " extracting: /content/dataset/images/train/650.jpg  \n",
            " extracting: /content/dataset/images/train/651.jpg  \n",
            " extracting: /content/dataset/images/train/652.jpg  \n",
            " extracting: /content/dataset/images/train/653.jpg  \n",
            " extracting: /content/dataset/images/train/654.jpg  \n",
            " extracting: /content/dataset/images/train/655.jpg  \n",
            " extracting: /content/dataset/images/train/656.jpg  \n",
            " extracting: /content/dataset/images/train/657.jpg  \n",
            " extracting: /content/dataset/images/train/658.jpg  \n",
            " extracting: /content/dataset/images/train/659.jpg  \n",
            " extracting: /content/dataset/images/train/66.jpg  \n",
            " extracting: /content/dataset/images/train/660.jpg  \n",
            " extracting: /content/dataset/images/train/661.jpg  \n",
            " extracting: /content/dataset/images/train/662.jpg  \n",
            " extracting: /content/dataset/images/train/663.jpg  \n",
            " extracting: /content/dataset/images/train/664.jpg  \n",
            " extracting: /content/dataset/images/train/665.jpg  \n",
            " extracting: /content/dataset/images/train/666.jpg  \n",
            " extracting: /content/dataset/images/train/667.jpg  \n",
            " extracting: /content/dataset/images/train/668.jpg  \n",
            " extracting: /content/dataset/images/train/669.jpg  \n",
            " extracting: /content/dataset/images/train/67.jpg  \n",
            " extracting: /content/dataset/images/train/670.jpg  \n",
            " extracting: /content/dataset/images/train/671.jpg  \n",
            " extracting: /content/dataset/images/train/672.jpg  \n",
            " extracting: /content/dataset/images/train/673.jpg  \n",
            " extracting: /content/dataset/images/train/674.jpg  \n",
            " extracting: /content/dataset/images/train/675.jpg  \n",
            " extracting: /content/dataset/images/train/676.jpg  \n",
            " extracting: /content/dataset/images/train/677.jpg  \n",
            " extracting: /content/dataset/images/train/678.jpg  \n",
            " extracting: /content/dataset/images/train/679.jpg  \n",
            " extracting: /content/dataset/images/train/68.jpg  \n",
            " extracting: /content/dataset/images/train/680.jpg  \n",
            " extracting: /content/dataset/images/train/681.jpg  \n",
            " extracting: /content/dataset/images/train/682.jpg  \n",
            " extracting: /content/dataset/images/train/683.jpg  \n",
            " extracting: /content/dataset/images/train/684.jpg  \n",
            " extracting: /content/dataset/images/train/685.jpg  \n",
            " extracting: /content/dataset/images/train/686.jpg  \n",
            " extracting: /content/dataset/images/train/687.jpg  \n",
            " extracting: /content/dataset/images/train/688.jpg  \n",
            " extracting: /content/dataset/images/train/689.jpg  \n",
            " extracting: /content/dataset/images/train/69.jpg  \n",
            " extracting: /content/dataset/images/train/690.jpg  \n",
            " extracting: /content/dataset/images/train/691.jpg  \n",
            " extracting: /content/dataset/images/train/692.jpg  \n",
            " extracting: /content/dataset/images/train/693.jpg  \n",
            " extracting: /content/dataset/images/train/694.jpg  \n",
            " extracting: /content/dataset/images/train/695.jpg  \n",
            " extracting: /content/dataset/images/train/696.jpg  \n",
            " extracting: /content/dataset/images/train/697.jpg  \n",
            " extracting: /content/dataset/images/train/698.jpg  \n",
            " extracting: /content/dataset/images/train/699.jpg  \n",
            " extracting: /content/dataset/images/train/7.jpg  \n",
            " extracting: /content/dataset/images/train/70.jpg  \n",
            " extracting: /content/dataset/images/train/700.jpg  \n",
            " extracting: /content/dataset/images/train/701.jpg  \n",
            " extracting: /content/dataset/images/train/702.jpg  \n",
            " extracting: /content/dataset/images/train/703.jpg  \n",
            " extracting: /content/dataset/images/train/704.jpg  \n",
            " extracting: /content/dataset/images/train/705.jpg  \n",
            " extracting: /content/dataset/images/train/706.jpg  \n",
            " extracting: /content/dataset/images/train/707.jpg  \n",
            " extracting: /content/dataset/images/train/708.jpg  \n",
            " extracting: /content/dataset/images/train/709.jpg  \n",
            " extracting: /content/dataset/images/train/71.jpg  \n",
            " extracting: /content/dataset/images/train/710.jpg  \n",
            " extracting: /content/dataset/images/train/711.jpg  \n",
            " extracting: /content/dataset/images/train/712.jpg  \n",
            " extracting: /content/dataset/images/train/713.jpg  \n",
            " extracting: /content/dataset/images/train/714.jpg  \n",
            " extracting: /content/dataset/images/train/715.jpg  \n",
            " extracting: /content/dataset/images/train/716.jpg  \n",
            " extracting: /content/dataset/images/train/717.jpg  \n",
            " extracting: /content/dataset/images/train/718.jpg  \n",
            " extracting: /content/dataset/images/train/719.jpg  \n",
            " extracting: /content/dataset/images/train/72.jpg  \n",
            " extracting: /content/dataset/images/train/720.jpg  \n",
            " extracting: /content/dataset/images/train/721.jpg  \n",
            " extracting: /content/dataset/images/train/722.jpg  \n",
            " extracting: /content/dataset/images/train/723.jpg  \n",
            " extracting: /content/dataset/images/train/724.jpg  \n",
            " extracting: /content/dataset/images/train/725.jpg  \n",
            " extracting: /content/dataset/images/train/726.jpg  \n",
            " extracting: /content/dataset/images/train/727.jpg  \n",
            " extracting: /content/dataset/images/train/728.jpg  \n",
            " extracting: /content/dataset/images/train/729.jpg  \n",
            " extracting: /content/dataset/images/train/73.jpg  \n",
            " extracting: /content/dataset/images/train/730.jpg  \n",
            " extracting: /content/dataset/images/train/731.jpg  \n",
            " extracting: /content/dataset/images/train/732.jpg  \n",
            " extracting: /content/dataset/images/train/733.jpg  \n",
            " extracting: /content/dataset/images/train/734.jpg  \n",
            " extracting: /content/dataset/images/train/735.jpg  \n",
            " extracting: /content/dataset/images/train/736.jpg  \n",
            " extracting: /content/dataset/images/train/737.jpg  \n",
            " extracting: /content/dataset/images/train/738.jpg  \n",
            " extracting: /content/dataset/images/train/739.jpg  \n",
            " extracting: /content/dataset/images/train/74.jpg  \n",
            " extracting: /content/dataset/images/train/740.jpg  \n",
            " extracting: /content/dataset/images/train/741.jpg  \n",
            " extracting: /content/dataset/images/train/742.jpg  \n",
            " extracting: /content/dataset/images/train/743.jpg  \n",
            " extracting: /content/dataset/images/train/744.jpg  \n",
            " extracting: /content/dataset/images/train/745.jpg  \n",
            " extracting: /content/dataset/images/train/746.jpg  \n",
            " extracting: /content/dataset/images/train/747.jpg  \n",
            " extracting: /content/dataset/images/train/748.jpg  \n",
            " extracting: /content/dataset/images/train/749.jpg  \n",
            " extracting: /content/dataset/images/train/75.jpg  \n",
            " extracting: /content/dataset/images/train/750.jpg  \n",
            " extracting: /content/dataset/images/train/751.jpg  \n",
            " extracting: /content/dataset/images/train/752.jpg  \n",
            " extracting: /content/dataset/images/train/753.jpg  \n",
            " extracting: /content/dataset/images/train/754.jpg  \n",
            " extracting: /content/dataset/images/train/755.jpg  \n",
            " extracting: /content/dataset/images/train/756.jpg  \n",
            " extracting: /content/dataset/images/train/757.jpg  \n",
            " extracting: /content/dataset/images/train/758.jpg  \n",
            " extracting: /content/dataset/images/train/759.jpg  \n",
            " extracting: /content/dataset/images/train/76.jpg  \n",
            " extracting: /content/dataset/images/train/760.jpg  \n",
            " extracting: /content/dataset/images/train/761.jpg  \n",
            " extracting: /content/dataset/images/train/762.jpg  \n",
            " extracting: /content/dataset/images/train/763.jpg  \n",
            " extracting: /content/dataset/images/train/764.jpg  \n",
            " extracting: /content/dataset/images/train/765.jpg  \n",
            " extracting: /content/dataset/images/train/766.jpg  \n",
            " extracting: /content/dataset/images/train/767.jpg  \n",
            " extracting: /content/dataset/images/train/768.jpg  \n",
            " extracting: /content/dataset/images/train/769.jpg  \n",
            " extracting: /content/dataset/images/train/77.jpg  \n",
            " extracting: /content/dataset/images/train/770.jpg  \n",
            " extracting: /content/dataset/images/train/771.jpg  \n",
            " extracting: /content/dataset/images/train/772.jpg  \n",
            " extracting: /content/dataset/images/train/773.jpg  \n",
            " extracting: /content/dataset/images/train/774.jpg  \n",
            " extracting: /content/dataset/images/train/775.jpg  \n",
            " extracting: /content/dataset/images/train/776.jpg  \n",
            " extracting: /content/dataset/images/train/777.jpg  \n",
            " extracting: /content/dataset/images/train/778.jpg  \n",
            " extracting: /content/dataset/images/train/779.jpg  \n",
            " extracting: /content/dataset/images/train/78.jpg  \n",
            " extracting: /content/dataset/images/train/780.jpg  \n",
            " extracting: /content/dataset/images/train/781.jpg  \n",
            " extracting: /content/dataset/images/train/782.jpg  \n",
            " extracting: /content/dataset/images/train/783.jpg  \n",
            " extracting: /content/dataset/images/train/784.jpg  \n",
            " extracting: /content/dataset/images/train/785.jpg  \n",
            " extracting: /content/dataset/images/train/786.jpg  \n",
            " extracting: /content/dataset/images/train/787.jpg  \n",
            " extracting: /content/dataset/images/train/788.jpg  \n",
            " extracting: /content/dataset/images/train/789.jpg  \n",
            " extracting: /content/dataset/images/train/79.jpg  \n",
            " extracting: /content/dataset/images/train/790.jpg  \n",
            " extracting: /content/dataset/images/train/791.jpg  \n",
            " extracting: /content/dataset/images/train/792.jpg  \n",
            " extracting: /content/dataset/images/train/8.jpg  \n",
            " extracting: /content/dataset/images/train/80.jpg  \n",
            " extracting: /content/dataset/images/train/81.jpg  \n",
            " extracting: /content/dataset/images/train/82.jpg  \n",
            " extracting: /content/dataset/images/train/83.jpg  \n",
            " extracting: /content/dataset/images/train/84.jpg  \n",
            " extracting: /content/dataset/images/train/85.jpg  \n",
            " extracting: /content/dataset/images/train/86.jpg  \n",
            " extracting: /content/dataset/images/train/87.jpg  \n",
            " extracting: /content/dataset/images/train/88.jpg  \n",
            " extracting: /content/dataset/images/train/89.jpg  \n",
            " extracting: /content/dataset/images/train/9.jpg  \n",
            " extracting: /content/dataset/images/train/90.jpg  \n",
            " extracting: /content/dataset/images/train/91.jpg  \n",
            " extracting: /content/dataset/images/train/92.jpg  \n",
            " extracting: /content/dataset/images/train/93.jpg  \n",
            " extracting: /content/dataset/images/train/94.jpg  \n",
            " extracting: /content/dataset/images/train/95.jpg  \n",
            " extracting: /content/dataset/images/train/96.jpg  \n",
            " extracting: /content/dataset/images/train/97.jpg  \n",
            " extracting: /content/dataset/images/train/98.jpg  \n",
            " extracting: /content/dataset/images/train/99.jpg  \n",
            " extracting: /content/dataset/images/val/793.jpg  \n",
            " extracting: /content/dataset/images/val/794.jpg  \n",
            " extracting: /content/dataset/images/val/795.jpg  \n",
            " extracting: /content/dataset/images/val/796.jpg  \n",
            " extracting: /content/dataset/images/val/797.jpg  \n",
            " extracting: /content/dataset/images/val/798.jpg  \n",
            " extracting: /content/dataset/images/val/799.jpg  \n",
            " extracting: /content/dataset/images/val/800.jpg  \n",
            " extracting: /content/dataset/images/val/801.jpg  \n",
            " extracting: /content/dataset/images/val/802.jpg  \n",
            " extracting: /content/dataset/images/val/803.jpg  \n",
            " extracting: /content/dataset/images/val/804.jpg  \n",
            " extracting: /content/dataset/images/val/805.jpg  \n",
            " extracting: /content/dataset/images/val/806.jpg  \n",
            " extracting: /content/dataset/images/val/807.jpg  \n",
            " extracting: /content/dataset/images/val/808.jpg  \n",
            " extracting: /content/dataset/images/val/809.jpg  \n",
            " extracting: /content/dataset/images/val/810.jpg  \n",
            " extracting: /content/dataset/images/val/811.jpg  \n",
            " extracting: /content/dataset/images/val/812.jpg  \n",
            " extracting: /content/dataset/images/val/813.jpg  \n",
            " extracting: /content/dataset/images/val/814.jpg  \n",
            " extracting: /content/dataset/images/val/815.jpg  \n",
            " extracting: /content/dataset/images/val/816.jpg  \n",
            " extracting: /content/dataset/images/val/817.jpg  \n",
            " extracting: /content/dataset/images/val/818.jpg  \n",
            " extracting: /content/dataset/images/val/819.jpg  \n",
            " extracting: /content/dataset/images/val/820.jpg  \n",
            " extracting: /content/dataset/images/val/821.jpg  \n",
            " extracting: /content/dataset/images/val/822.jpg  \n",
            " extracting: /content/dataset/images/val/823.jpg  \n",
            " extracting: /content/dataset/images/val/824.jpg  \n",
            " extracting: /content/dataset/images/val/825.jpg  \n",
            " extracting: /content/dataset/images/val/826.jpg  \n",
            " extracting: /content/dataset/images/val/827.jpg  \n",
            " extracting: /content/dataset/images/val/828.jpg  \n",
            " extracting: /content/dataset/images/val/829.jpg  \n",
            " extracting: /content/dataset/images/val/830.jpg  \n",
            " extracting: /content/dataset/images/val/831.jpg  \n",
            " extracting: /content/dataset/images/val/832.jpg  \n",
            " extracting: /content/dataset/images/val/833.jpg  \n",
            " extracting: /content/dataset/images/val/834.jpg  \n",
            " extracting: /content/dataset/images/val/835.jpg  \n",
            " extracting: /content/dataset/images/val/836.jpg  \n",
            " extracting: /content/dataset/images/val/837.jpg  \n",
            " extracting: /content/dataset/images/val/838.jpg  \n",
            " extracting: /content/dataset/images/val/839.jpg  \n",
            " extracting: /content/dataset/images/val/840.jpg  \n",
            " extracting: /content/dataset/images/val/841.jpg  \n",
            " extracting: /content/dataset/images/val/842.jpg  \n",
            " extracting: /content/dataset/images/val/843.jpg  \n",
            " extracting: /content/dataset/images/val/844.jpg  \n",
            " extracting: /content/dataset/images/val/845.jpg  \n",
            " extracting: /content/dataset/images/val/846.jpg  \n",
            " extracting: /content/dataset/images/val/847.jpg  \n",
            " extracting: /content/dataset/images/val/848.jpg  \n",
            " extracting: /content/dataset/images/val/849.jpg  \n",
            " extracting: /content/dataset/images/val/850.jpg  \n",
            " extracting: /content/dataset/images/val/851.jpg  \n",
            " extracting: /content/dataset/images/val/852.jpg  \n",
            " extracting: /content/dataset/images/val/853.jpg  \n",
            " extracting: /content/dataset/images/val/854.jpg  \n",
            " extracting: /content/dataset/images/val/855.jpg  \n",
            " extracting: /content/dataset/images/val/856.jpg  \n",
            " extracting: /content/dataset/images/val/857.jpg  \n",
            " extracting: /content/dataset/images/val/858.jpg  \n",
            " extracting: /content/dataset/images/val/859.jpg  \n",
            " extracting: /content/dataset/images/val/860.jpg  \n",
            " extracting: /content/dataset/images/val/861.jpg  \n",
            " extracting: /content/dataset/images/val/862.jpg  \n",
            " extracting: /content/dataset/images/val/863.jpg  \n",
            " extracting: /content/dataset/images/val/864.jpg  \n",
            " extracting: /content/dataset/images/val/865.jpg  \n",
            " extracting: /content/dataset/images/val/866.jpg  \n",
            " extracting: /content/dataset/images/val/867.jpg  \n",
            " extracting: /content/dataset/images/val/868.jpg  \n",
            " extracting: /content/dataset/images/val/869.jpg  \n",
            " extracting: /content/dataset/images/val/870.jpg  \n",
            " extracting: /content/dataset/images/val/871.jpg  \n",
            " extracting: /content/dataset/images/val/872.jpg  \n",
            " extracting: /content/dataset/images/val/873.jpg  \n",
            " extracting: /content/dataset/images/val/874.jpg  \n",
            " extracting: /content/dataset/images/val/875.jpg  \n",
            " extracting: /content/dataset/images/val/876.jpg  \n",
            " extracting: /content/dataset/images/val/877.jpg  \n",
            " extracting: /content/dataset/images/val/878.jpg  \n",
            " extracting: /content/dataset/images/val/879.jpg  \n",
            " extracting: /content/dataset/images/val/880.jpg  \n",
            " extracting: /content/dataset/images/val/881.jpg  \n",
            " extracting: /content/dataset/images/val/882.jpg  \n",
            " extracting: /content/dataset/images/val/883.jpg  \n",
            " extracting: /content/dataset/images/val/884.jpg  \n",
            " extracting: /content/dataset/images/val/885.jpg  \n",
            " extracting: /content/dataset/images/val/886.jpg  \n",
            " extracting: /content/dataset/images/val/887.jpg  \n",
            " extracting: /content/dataset/images/val/888.jpg  \n",
            " extracting: /content/dataset/images/val/889.jpg  \n",
            " extracting: /content/dataset/images/val/890.jpg  \n",
            " extracting: /content/dataset/images/val/891.jpg  \n",
            " extracting: /content/dataset/images/val/892.jpg  \n",
            " extracting: /content/dataset/images/val/893.jpg  \n",
            " extracting: /content/dataset/images/val/894.jpg  \n",
            " extracting: /content/dataset/images/val/895.jpg  \n",
            " extracting: /content/dataset/images/val/896.jpg  \n",
            " extracting: /content/dataset/images/val/897.jpg  \n",
            " extracting: /content/dataset/images/val/898.jpg  \n",
            " extracting: /content/dataset/images/val/899.jpg  \n",
            " extracting: /content/dataset/images/val/900.jpg  \n",
            " extracting: /content/dataset/images/val/901.jpg  \n",
            " extracting: /content/dataset/images/val/902.jpg  \n",
            " extracting: /content/dataset/images/val/903.jpg  \n",
            " extracting: /content/dataset/images/val/904.jpg  \n",
            " extracting: /content/dataset/images/val/905.jpg  \n",
            " extracting: /content/dataset/images/val/906.jpg  \n",
            " extracting: /content/dataset/images/val/907.jpg  \n",
            " extracting: /content/dataset/images/val/908.jpg  \n",
            " extracting: /content/dataset/images/val/909.jpg  \n",
            " extracting: /content/dataset/images/val/910.jpg  \n",
            " extracting: /content/dataset/images/val/911.jpg  \n",
            " extracting: /content/dataset/images/val/912.jpg  \n",
            " extracting: /content/dataset/images/val/913.jpg  \n",
            " extracting: /content/dataset/images/val/914.jpg  \n",
            " extracting: /content/dataset/images/val/915.jpg  \n",
            " extracting: /content/dataset/images/val/916.jpg  \n",
            " extracting: /content/dataset/images/val/917.jpg  \n",
            " extracting: /content/dataset/images/val/918.jpg  \n",
            " extracting: /content/dataset/images/val/919.jpg  \n",
            " extracting: /content/dataset/images/val/920.jpg  \n",
            " extracting: /content/dataset/images/val/921.jpg  \n",
            " extracting: /content/dataset/images/val/922.jpg  \n",
            " extracting: /content/dataset/images/val/923.jpg  \n",
            " extracting: /content/dataset/images/val/924.jpg  \n",
            " extracting: /content/dataset/images/val/925.jpg  \n",
            " extracting: /content/dataset/images/val/926.jpg  \n",
            " extracting: /content/dataset/images/val/927.jpg  \n",
            " extracting: /content/dataset/images/val/928.jpg  \n",
            " extracting: /content/dataset/images/val/929.jpg  \n",
            " extracting: /content/dataset/images/val/930.jpg  \n",
            " extracting: /content/dataset/images/val/931.jpg  \n",
            " extracting: /content/dataset/images/val/932.jpg  \n",
            " extracting: /content/dataset/images/val/933.jpg  \n",
            " extracting: /content/dataset/images/val/934.jpg  \n",
            " extracting: /content/dataset/images/val/935.jpg  \n",
            " extracting: /content/dataset/images/val/936.jpg  \n",
            " extracting: /content/dataset/images/val/937.jpg  \n",
            " extracting: /content/dataset/images/val/938.jpg  \n",
            " extracting: /content/dataset/images/val/939.jpg  \n",
            " extracting: /content/dataset/images/val/940.jpg  \n",
            " extracting: /content/dataset/images/val/941.jpg  \n",
            " extracting: /content/dataset/images/val/942.jpg  \n",
            " extracting: /content/dataset/images/val/943.jpg  \n",
            " extracting: /content/dataset/images/val/944.jpg  \n",
            " extracting: /content/dataset/images/val/945.jpg  \n",
            " extracting: /content/dataset/images/val/946.jpg  \n",
            " extracting: /content/dataset/images/val/947.jpg  \n",
            " extracting: /content/dataset/images/val/948.jpg  \n",
            " extracting: /content/dataset/images/val/949.jpg  \n",
            " extracting: /content/dataset/images/val/950.jpg  \n",
            " extracting: /content/dataset/images/val/951.jpg  \n",
            " extracting: /content/dataset/images/val/952.jpg  \n",
            " extracting: /content/dataset/images/val/953.jpg  \n",
            " extracting: /content/dataset/images/val/954.jpg  \n",
            " extracting: /content/dataset/images/val/955.jpg  \n",
            " extracting: /content/dataset/images/val/956.jpg  \n",
            " extracting: /content/dataset/images/val/957.jpg  \n",
            " extracting: /content/dataset/images/val/958.jpg  \n",
            " extracting: /content/dataset/images/val/959.jpg  \n",
            " extracting: /content/dataset/images/val/960.jpg  \n",
            " extracting: /content/dataset/images/val/961.jpg  \n",
            " extracting: /content/dataset/images/val/962.jpg  \n",
            " extracting: /content/dataset/images/val/963.jpg  \n",
            " extracting: /content/dataset/images/val/964.jpg  \n",
            " extracting: /content/dataset/images/val/965.jpg  \n",
            " extracting: /content/dataset/images/val/966.jpg  \n",
            " extracting: /content/dataset/images/val/967.jpg  \n",
            " extracting: /content/dataset/images/val/968.jpg  \n",
            " extracting: /content/dataset/images/val/969.jpg  \n",
            " extracting: /content/dataset/images/val/970.jpg  \n",
            " extracting: /content/dataset/images/val/971.jpg  \n",
            " extracting: /content/dataset/images/val/972.jpg  \n",
            " extracting: /content/dataset/images/val/973.jpg  \n",
            " extracting: /content/dataset/images/val/974.jpg  \n",
            " extracting: /content/dataset/images/val/975.jpg  \n",
            " extracting: /content/dataset/images/val/976.jpg  \n",
            " extracting: /content/dataset/labels/public_test/1000.txt  \n",
            " extracting: /content/dataset/labels/public_test/1001.txt  \n",
            " extracting: /content/dataset/labels/public_test/1002.txt  \n",
            " extracting: /content/dataset/labels/public_test/1003.txt  \n",
            " extracting: /content/dataset/labels/public_test/1004.txt  \n",
            " extracting: /content/dataset/labels/public_test/1005.txt  \n",
            " extracting: /content/dataset/labels/public_test/1006.txt  \n",
            " extracting: /content/dataset/labels/public_test/1007.txt  \n",
            " extracting: /content/dataset/labels/public_test/1008.txt  \n",
            " extracting: /content/dataset/labels/public_test/1009.txt  \n",
            " extracting: /content/dataset/labels/public_test/1010.txt  \n",
            " extracting: /content/dataset/labels/public_test/1011.txt  \n",
            " extracting: /content/dataset/labels/public_test/1012.txt  \n",
            " extracting: /content/dataset/labels/public_test/1013.txt  \n",
            " extracting: /content/dataset/labels/public_test/1014.txt  \n",
            " extracting: /content/dataset/labels/public_test/1015.txt  \n",
            " extracting: /content/dataset/labels/public_test/1016.txt  \n",
            " extracting: /content/dataset/labels/public_test/1017.txt  \n",
            " extracting: /content/dataset/labels/public_test/1018.txt  \n",
            " extracting: /content/dataset/labels/public_test/1019.txt  \n",
            " extracting: /content/dataset/labels/public_test/1020.txt  \n",
            " extracting: /content/dataset/labels/public_test/1021.txt  \n",
            " extracting: /content/dataset/labels/public_test/1022.txt  \n",
            " extracting: /content/dataset/labels/public_test/1023.txt  \n",
            " extracting: /content/dataset/labels/public_test/1024.txt  \n",
            " extracting: /content/dataset/labels/public_test/1025.txt  \n",
            " extracting: /content/dataset/labels/public_test/1026.txt  \n",
            " extracting: /content/dataset/labels/public_test/1027.txt  \n",
            " extracting: /content/dataset/labels/public_test/1028.txt  \n",
            " extracting: /content/dataset/labels/public_test/1029.txt  \n",
            " extracting: /content/dataset/labels/public_test/1030.txt  \n",
            " extracting: /content/dataset/labels/public_test/1031.txt  \n",
            " extracting: /content/dataset/labels/public_test/1032.txt  \n",
            " extracting: /content/dataset/labels/public_test/1033.txt  \n",
            " extracting: /content/dataset/labels/public_test/1034.txt  \n",
            " extracting: /content/dataset/labels/public_test/1035.txt  \n",
            " extracting: /content/dataset/labels/public_test/1036.txt  \n",
            " extracting: /content/dataset/labels/public_test/1037.txt  \n",
            " extracting: /content/dataset/labels/public_test/1038.txt  \n",
            " extracting: /content/dataset/labels/public_test/1039.txt  \n",
            " extracting: /content/dataset/labels/public_test/1040.txt  \n",
            " extracting: /content/dataset/labels/public_test/1041.txt  \n",
            " extracting: /content/dataset/labels/public_test/1042.txt  \n",
            " extracting: /content/dataset/labels/public_test/1043.txt  \n",
            " extracting: /content/dataset/labels/public_test/1044.txt  \n",
            " extracting: /content/dataset/labels/public_test/1045.txt  \n",
            " extracting: /content/dataset/labels/public_test/1046.txt  \n",
            " extracting: /content/dataset/labels/public_test/1047.txt  \n",
            " extracting: /content/dataset/labels/public_test/1048.txt  \n",
            " extracting: /content/dataset/labels/public_test/1049.txt  \n",
            " extracting: /content/dataset/labels/public_test/1050.txt  \n",
            " extracting: /content/dataset/labels/public_test/1051.txt  \n",
            " extracting: /content/dataset/labels/public_test/1052.txt  \n",
            " extracting: /content/dataset/labels/public_test/1053.txt  \n",
            " extracting: /content/dataset/labels/public_test/1054.txt  \n",
            " extracting: /content/dataset/labels/public_test/1055.txt  \n",
            " extracting: /content/dataset/labels/public_test/1056.txt  \n",
            " extracting: /content/dataset/labels/public_test/1057.txt  \n",
            " extracting: /content/dataset/labels/public_test/1058.txt  \n",
            " extracting: /content/dataset/labels/public_test/1059.txt  \n",
            " extracting: /content/dataset/labels/public_test/1060.txt  \n",
            " extracting: /content/dataset/labels/public_test/1061.txt  \n",
            " extracting: /content/dataset/labels/public_test/1062.txt  \n",
            " extracting: /content/dataset/labels/public_test/1063.txt  \n",
            " extracting: /content/dataset/labels/public_test/1064.txt  \n",
            " extracting: /content/dataset/labels/public_test/977.txt  \n",
            " extracting: /content/dataset/labels/public_test/978.txt  \n",
            " extracting: /content/dataset/labels/public_test/979.txt  \n",
            " extracting: /content/dataset/labels/public_test/980.txt  \n",
            " extracting: /content/dataset/labels/public_test/981.txt  \n",
            " extracting: /content/dataset/labels/public_test/982.txt  \n",
            " extracting: /content/dataset/labels/public_test/983.txt  \n",
            " extracting: /content/dataset/labels/public_test/984.txt  \n",
            " extracting: /content/dataset/labels/public_test/985.txt  \n",
            " extracting: /content/dataset/labels/public_test/986.txt  \n",
            " extracting: /content/dataset/labels/public_test/987.txt  \n",
            " extracting: /content/dataset/labels/public_test/988.txt  \n",
            " extracting: /content/dataset/labels/public_test/989.txt  \n",
            " extracting: /content/dataset/labels/public_test/990.txt  \n",
            " extracting: /content/dataset/labels/public_test/991.txt  \n",
            " extracting: /content/dataset/labels/public_test/992.txt  \n",
            " extracting: /content/dataset/labels/public_test/993.txt  \n",
            " extracting: /content/dataset/labels/public_test/994.txt  \n",
            " extracting: /content/dataset/labels/public_test/995.txt  \n",
            " extracting: /content/dataset/labels/public_test/996.txt  \n",
            " extracting: /content/dataset/labels/public_test/997.txt  \n",
            " extracting: /content/dataset/labels/public_test/998.txt  \n",
            " extracting: /content/dataset/labels/public_test/999.txt  \n",
            " extracting: /content/dataset/labels/train/1.txt  \n",
            " extracting: /content/dataset/labels/train/10.txt  \n",
            " extracting: /content/dataset/labels/train/100.txt  \n",
            " extracting: /content/dataset/labels/train/101.txt  \n",
            " extracting: /content/dataset/labels/train/102.txt  \n",
            " extracting: /content/dataset/labels/train/103.txt  \n",
            " extracting: /content/dataset/labels/train/104.txt  \n",
            " extracting: /content/dataset/labels/train/105.txt  \n",
            " extracting: /content/dataset/labels/train/106.txt  \n",
            " extracting: /content/dataset/labels/train/107.txt  \n",
            " extracting: /content/dataset/labels/train/108.txt  \n",
            " extracting: /content/dataset/labels/train/109.txt  \n",
            " extracting: /content/dataset/labels/train/11.txt  \n",
            " extracting: /content/dataset/labels/train/110.txt  \n",
            " extracting: /content/dataset/labels/train/111.txt  \n",
            " extracting: /content/dataset/labels/train/112.txt  \n",
            " extracting: /content/dataset/labels/train/113.txt  \n",
            " extracting: /content/dataset/labels/train/114.txt  \n",
            " extracting: /content/dataset/labels/train/115.txt  \n",
            " extracting: /content/dataset/labels/train/116.txt  \n",
            " extracting: /content/dataset/labels/train/117.txt  \n",
            " extracting: /content/dataset/labels/train/118.txt  \n",
            " extracting: /content/dataset/labels/train/119.txt  \n",
            " extracting: /content/dataset/labels/train/12.txt  \n",
            " extracting: /content/dataset/labels/train/120.txt  \n",
            " extracting: /content/dataset/labels/train/121.txt  \n",
            " extracting: /content/dataset/labels/train/122.txt  \n",
            " extracting: /content/dataset/labels/train/123.txt  \n",
            " extracting: /content/dataset/labels/train/124.txt  \n",
            " extracting: /content/dataset/labels/train/125.txt  \n",
            " extracting: /content/dataset/labels/train/126.txt  \n",
            " extracting: /content/dataset/labels/train/127.txt  \n",
            " extracting: /content/dataset/labels/train/128.txt  \n",
            " extracting: /content/dataset/labels/train/129.txt  \n",
            " extracting: /content/dataset/labels/train/13.txt  \n",
            " extracting: /content/dataset/labels/train/130.txt  \n",
            " extracting: /content/dataset/labels/train/131.txt  \n",
            " extracting: /content/dataset/labels/train/132.txt  \n",
            " extracting: /content/dataset/labels/train/133.txt  \n",
            " extracting: /content/dataset/labels/train/134.txt  \n",
            " extracting: /content/dataset/labels/train/135.txt  \n",
            " extracting: /content/dataset/labels/train/136.txt  \n",
            " extracting: /content/dataset/labels/train/137.txt  \n",
            " extracting: /content/dataset/labels/train/138.txt  \n",
            " extracting: /content/dataset/labels/train/139.txt  \n",
            " extracting: /content/dataset/labels/train/14.txt  \n",
            " extracting: /content/dataset/labels/train/140.txt  \n",
            " extracting: /content/dataset/labels/train/141.txt  \n",
            " extracting: /content/dataset/labels/train/142.txt  \n",
            " extracting: /content/dataset/labels/train/143.txt  \n",
            " extracting: /content/dataset/labels/train/144.txt  \n",
            " extracting: /content/dataset/labels/train/145.txt  \n",
            " extracting: /content/dataset/labels/train/146.txt  \n",
            " extracting: /content/dataset/labels/train/147.txt  \n",
            " extracting: /content/dataset/labels/train/148.txt  \n",
            " extracting: /content/dataset/labels/train/149.txt  \n",
            " extracting: /content/dataset/labels/train/15.txt  \n",
            " extracting: /content/dataset/labels/train/150.txt  \n",
            " extracting: /content/dataset/labels/train/151.txt  \n",
            " extracting: /content/dataset/labels/train/152.txt  \n",
            " extracting: /content/dataset/labels/train/153.txt  \n",
            " extracting: /content/dataset/labels/train/154.txt  \n",
            " extracting: /content/dataset/labels/train/155.txt  \n",
            " extracting: /content/dataset/labels/train/156.txt  \n",
            " extracting: /content/dataset/labels/train/157.txt  \n",
            " extracting: /content/dataset/labels/train/158.txt  \n",
            " extracting: /content/dataset/labels/train/159.txt  \n",
            " extracting: /content/dataset/labels/train/16.txt  \n",
            " extracting: /content/dataset/labels/train/160.txt  \n",
            " extracting: /content/dataset/labels/train/161.txt  \n",
            " extracting: /content/dataset/labels/train/162.txt  \n",
            " extracting: /content/dataset/labels/train/163.txt  \n",
            " extracting: /content/dataset/labels/train/164.txt  \n",
            " extracting: /content/dataset/labels/train/165.txt  \n",
            " extracting: /content/dataset/labels/train/166.txt  \n",
            " extracting: /content/dataset/labels/train/167.txt  \n",
            " extracting: /content/dataset/labels/train/168.txt  \n",
            " extracting: /content/dataset/labels/train/169.txt  \n",
            " extracting: /content/dataset/labels/train/17.txt  \n",
            " extracting: /content/dataset/labels/train/170.txt  \n",
            " extracting: /content/dataset/labels/train/171.txt  \n",
            " extracting: /content/dataset/labels/train/172.txt  \n",
            " extracting: /content/dataset/labels/train/173.txt  \n",
            " extracting: /content/dataset/labels/train/174.txt  \n",
            " extracting: /content/dataset/labels/train/175.txt  \n",
            " extracting: /content/dataset/labels/train/176.txt  \n",
            " extracting: /content/dataset/labels/train/177.txt  \n",
            " extracting: /content/dataset/labels/train/178.txt  \n",
            " extracting: /content/dataset/labels/train/179.txt  \n",
            " extracting: /content/dataset/labels/train/18.txt  \n",
            " extracting: /content/dataset/labels/train/180.txt  \n",
            " extracting: /content/dataset/labels/train/181.txt  \n",
            " extracting: /content/dataset/labels/train/182.txt  \n",
            " extracting: /content/dataset/labels/train/183.txt  \n",
            " extracting: /content/dataset/labels/train/184.txt  \n",
            " extracting: /content/dataset/labels/train/185.txt  \n",
            " extracting: /content/dataset/labels/train/186.txt  \n",
            " extracting: /content/dataset/labels/train/187.txt  \n",
            " extracting: /content/dataset/labels/train/188.txt  \n",
            " extracting: /content/dataset/labels/train/189.txt  \n",
            " extracting: /content/dataset/labels/train/19.txt  \n",
            " extracting: /content/dataset/labels/train/190.txt  \n",
            " extracting: /content/dataset/labels/train/191.txt  \n",
            " extracting: /content/dataset/labels/train/192.txt  \n",
            " extracting: /content/dataset/labels/train/193.txt  \n",
            " extracting: /content/dataset/labels/train/194.txt  \n",
            " extracting: /content/dataset/labels/train/195.txt  \n",
            " extracting: /content/dataset/labels/train/196.txt  \n",
            " extracting: /content/dataset/labels/train/197.txt  \n",
            " extracting: /content/dataset/labels/train/198.txt  \n",
            " extracting: /content/dataset/labels/train/199.txt  \n",
            " extracting: /content/dataset/labels/train/2.txt  \n",
            " extracting: /content/dataset/labels/train/20.txt  \n",
            " extracting: /content/dataset/labels/train/200.txt  \n",
            " extracting: /content/dataset/labels/train/201.txt  \n",
            " extracting: /content/dataset/labels/train/202.txt  \n",
            " extracting: /content/dataset/labels/train/203.txt  \n",
            " extracting: /content/dataset/labels/train/204.txt  \n",
            " extracting: /content/dataset/labels/train/205.txt  \n",
            " extracting: /content/dataset/labels/train/206.txt  \n",
            " extracting: /content/dataset/labels/train/207.txt  \n",
            " extracting: /content/dataset/labels/train/208.txt  \n",
            " extracting: /content/dataset/labels/train/209.txt  \n",
            " extracting: /content/dataset/labels/train/21.txt  \n",
            " extracting: /content/dataset/labels/train/210.txt  \n",
            " extracting: /content/dataset/labels/train/211.txt  \n",
            " extracting: /content/dataset/labels/train/212.txt  \n",
            " extracting: /content/dataset/labels/train/213.txt  \n",
            " extracting: /content/dataset/labels/train/214.txt  \n",
            " extracting: /content/dataset/labels/train/215.txt  \n",
            " extracting: /content/dataset/labels/train/216.txt  \n",
            " extracting: /content/dataset/labels/train/217.txt  \n",
            " extracting: /content/dataset/labels/train/218.txt  \n",
            " extracting: /content/dataset/labels/train/219.txt  \n",
            " extracting: /content/dataset/labels/train/22.txt  \n",
            " extracting: /content/dataset/labels/train/220.txt  \n",
            " extracting: /content/dataset/labels/train/221.txt  \n",
            " extracting: /content/dataset/labels/train/222.txt  \n",
            " extracting: /content/dataset/labels/train/223.txt  \n",
            " extracting: /content/dataset/labels/train/224.txt  \n",
            " extracting: /content/dataset/labels/train/225.txt  \n",
            " extracting: /content/dataset/labels/train/226.txt  \n",
            " extracting: /content/dataset/labels/train/227.txt  \n",
            " extracting: /content/dataset/labels/train/228.txt  \n",
            " extracting: /content/dataset/labels/train/229.txt  \n",
            " extracting: /content/dataset/labels/train/23.txt  \n",
            " extracting: /content/dataset/labels/train/230.txt  \n",
            " extracting: /content/dataset/labels/train/231.txt  \n",
            " extracting: /content/dataset/labels/train/232.txt  \n",
            " extracting: /content/dataset/labels/train/233.txt  \n",
            " extracting: /content/dataset/labels/train/234.txt  \n",
            " extracting: /content/dataset/labels/train/235.txt  \n",
            " extracting: /content/dataset/labels/train/236.txt  \n",
            " extracting: /content/dataset/labels/train/237.txt  \n",
            " extracting: /content/dataset/labels/train/238.txt  \n",
            " extracting: /content/dataset/labels/train/239.txt  \n",
            " extracting: /content/dataset/labels/train/24.txt  \n",
            " extracting: /content/dataset/labels/train/240.txt  \n",
            " extracting: /content/dataset/labels/train/241.txt  \n",
            " extracting: /content/dataset/labels/train/242.txt  \n",
            " extracting: /content/dataset/labels/train/243.txt  \n",
            " extracting: /content/dataset/labels/train/244.txt  \n",
            " extracting: /content/dataset/labels/train/245.txt  \n",
            " extracting: /content/dataset/labels/train/246.txt  \n",
            " extracting: /content/dataset/labels/train/247.txt  \n",
            " extracting: /content/dataset/labels/train/248.txt  \n",
            " extracting: /content/dataset/labels/train/249.txt  \n",
            " extracting: /content/dataset/labels/train/25.txt  \n",
            " extracting: /content/dataset/labels/train/250.txt  \n",
            " extracting: /content/dataset/labels/train/251.txt  \n",
            " extracting: /content/dataset/labels/train/252.txt  \n",
            " extracting: /content/dataset/labels/train/253.txt  \n",
            " extracting: /content/dataset/labels/train/254.txt  \n",
            " extracting: /content/dataset/labels/train/255.txt  \n",
            " extracting: /content/dataset/labels/train/256.txt  \n",
            " extracting: /content/dataset/labels/train/257.txt  \n",
            " extracting: /content/dataset/labels/train/258.txt  \n",
            " extracting: /content/dataset/labels/train/259.txt  \n",
            " extracting: /content/dataset/labels/train/26.txt  \n",
            " extracting: /content/dataset/labels/train/260.txt  \n",
            " extracting: /content/dataset/labels/train/261.txt  \n",
            " extracting: /content/dataset/labels/train/262.txt  \n",
            " extracting: /content/dataset/labels/train/263.txt  \n",
            " extracting: /content/dataset/labels/train/264.txt  \n",
            " extracting: /content/dataset/labels/train/265.txt  \n",
            " extracting: /content/dataset/labels/train/266.txt  \n",
            " extracting: /content/dataset/labels/train/267.txt  \n",
            " extracting: /content/dataset/labels/train/268.txt  \n",
            " extracting: /content/dataset/labels/train/269.txt  \n",
            " extracting: /content/dataset/labels/train/27.txt  \n",
            " extracting: /content/dataset/labels/train/270.txt  \n",
            " extracting: /content/dataset/labels/train/271.txt  \n",
            " extracting: /content/dataset/labels/train/272.txt  \n",
            " extracting: /content/dataset/labels/train/273.txt  \n",
            " extracting: /content/dataset/labels/train/274.txt  \n",
            " extracting: /content/dataset/labels/train/275.txt  \n",
            " extracting: /content/dataset/labels/train/276.txt  \n",
            " extracting: /content/dataset/labels/train/277.txt  \n",
            " extracting: /content/dataset/labels/train/278.txt  \n",
            " extracting: /content/dataset/labels/train/279.txt  \n",
            " extracting: /content/dataset/labels/train/28.txt  \n",
            " extracting: /content/dataset/labels/train/280.txt  \n",
            " extracting: /content/dataset/labels/train/281.txt  \n",
            " extracting: /content/dataset/labels/train/282.txt  \n",
            " extracting: /content/dataset/labels/train/283.txt  \n",
            " extracting: /content/dataset/labels/train/284.txt  \n",
            " extracting: /content/dataset/labels/train/285.txt  \n",
            " extracting: /content/dataset/labels/train/286.txt  \n",
            " extracting: /content/dataset/labels/train/287.txt  \n",
            " extracting: /content/dataset/labels/train/288.txt  \n",
            " extracting: /content/dataset/labels/train/289.txt  \n",
            " extracting: /content/dataset/labels/train/29.txt  \n",
            " extracting: /content/dataset/labels/train/290.txt  \n",
            " extracting: /content/dataset/labels/train/291.txt  \n",
            " extracting: /content/dataset/labels/train/292.txt  \n",
            " extracting: /content/dataset/labels/train/293.txt  \n",
            " extracting: /content/dataset/labels/train/294.txt  \n",
            " extracting: /content/dataset/labels/train/295.txt  \n",
            " extracting: /content/dataset/labels/train/296.txt  \n",
            " extracting: /content/dataset/labels/train/297.txt  \n",
            " extracting: /content/dataset/labels/train/298.txt  \n",
            " extracting: /content/dataset/labels/train/299.txt  \n",
            " extracting: /content/dataset/labels/train/3.txt  \n",
            " extracting: /content/dataset/labels/train/30.txt  \n",
            " extracting: /content/dataset/labels/train/300.txt  \n",
            " extracting: /content/dataset/labels/train/301.txt  \n",
            " extracting: /content/dataset/labels/train/302.txt  \n",
            " extracting: /content/dataset/labels/train/303.txt  \n",
            " extracting: /content/dataset/labels/train/304.txt  \n",
            " extracting: /content/dataset/labels/train/305.txt  \n",
            " extracting: /content/dataset/labels/train/306.txt  \n",
            " extracting: /content/dataset/labels/train/307.txt  \n",
            " extracting: /content/dataset/labels/train/308.txt  \n",
            " extracting: /content/dataset/labels/train/309.txt  \n",
            " extracting: /content/dataset/labels/train/31.txt  \n",
            " extracting: /content/dataset/labels/train/310.txt  \n",
            " extracting: /content/dataset/labels/train/311.txt  \n",
            " extracting: /content/dataset/labels/train/312.txt  \n",
            " extracting: /content/dataset/labels/train/313.txt  \n",
            " extracting: /content/dataset/labels/train/314.txt  \n",
            " extracting: /content/dataset/labels/train/315.txt  \n",
            " extracting: /content/dataset/labels/train/316.txt  \n",
            " extracting: /content/dataset/labels/train/317.txt  \n",
            " extracting: /content/dataset/labels/train/318.txt  \n",
            " extracting: /content/dataset/labels/train/319.txt  \n",
            " extracting: /content/dataset/labels/train/32.txt  \n",
            " extracting: /content/dataset/labels/train/320.txt  \n",
            " extracting: /content/dataset/labels/train/321.txt  \n",
            " extracting: /content/dataset/labels/train/322.txt  \n",
            " extracting: /content/dataset/labels/train/323.txt  \n",
            " extracting: /content/dataset/labels/train/324.txt  \n",
            " extracting: /content/dataset/labels/train/325.txt  \n",
            " extracting: /content/dataset/labels/train/326.txt  \n",
            " extracting: /content/dataset/labels/train/327.txt  \n",
            " extracting: /content/dataset/labels/train/328.txt  \n",
            " extracting: /content/dataset/labels/train/329.txt  \n",
            " extracting: /content/dataset/labels/train/33.txt  \n",
            " extracting: /content/dataset/labels/train/330.txt  \n",
            " extracting: /content/dataset/labels/train/331.txt  \n",
            " extracting: /content/dataset/labels/train/332.txt  \n",
            " extracting: /content/dataset/labels/train/333.txt  \n",
            " extracting: /content/dataset/labels/train/334.txt  \n",
            " extracting: /content/dataset/labels/train/335.txt  \n",
            " extracting: /content/dataset/labels/train/336.txt  \n",
            " extracting: /content/dataset/labels/train/337.txt  \n",
            " extracting: /content/dataset/labels/train/338.txt  \n",
            " extracting: /content/dataset/labels/train/339.txt  \n",
            " extracting: /content/dataset/labels/train/34.txt  \n",
            " extracting: /content/dataset/labels/train/340.txt  \n",
            " extracting: /content/dataset/labels/train/341.txt  \n",
            " extracting: /content/dataset/labels/train/342.txt  \n",
            " extracting: /content/dataset/labels/train/343.txt  \n",
            " extracting: /content/dataset/labels/train/344.txt  \n",
            " extracting: /content/dataset/labels/train/345.txt  \n",
            " extracting: /content/dataset/labels/train/346.txt  \n",
            " extracting: /content/dataset/labels/train/347.txt  \n",
            " extracting: /content/dataset/labels/train/348.txt  \n",
            " extracting: /content/dataset/labels/train/349.txt  \n",
            " extracting: /content/dataset/labels/train/35.txt  \n",
            " extracting: /content/dataset/labels/train/350.txt  \n",
            " extracting: /content/dataset/labels/train/351.txt  \n",
            " extracting: /content/dataset/labels/train/352.txt  \n",
            " extracting: /content/dataset/labels/train/353.txt  \n",
            " extracting: /content/dataset/labels/train/354.txt  \n",
            " extracting: /content/dataset/labels/train/355.txt  \n",
            " extracting: /content/dataset/labels/train/356.txt  \n",
            " extracting: /content/dataset/labels/train/357.txt  \n",
            " extracting: /content/dataset/labels/train/358.txt  \n",
            " extracting: /content/dataset/labels/train/359.txt  \n",
            " extracting: /content/dataset/labels/train/36.txt  \n",
            " extracting: /content/dataset/labels/train/360.txt  \n",
            " extracting: /content/dataset/labels/train/361.txt  \n",
            " extracting: /content/dataset/labels/train/362.txt  \n",
            " extracting: /content/dataset/labels/train/363.txt  \n",
            " extracting: /content/dataset/labels/train/364.txt  \n",
            " extracting: /content/dataset/labels/train/365.txt  \n",
            " extracting: /content/dataset/labels/train/366.txt  \n",
            " extracting: /content/dataset/labels/train/367.txt  \n",
            " extracting: /content/dataset/labels/train/368.txt  \n",
            " extracting: /content/dataset/labels/train/369.txt  \n",
            " extracting: /content/dataset/labels/train/37.txt  \n",
            " extracting: /content/dataset/labels/train/370.txt  \n",
            " extracting: /content/dataset/labels/train/371.txt  \n",
            " extracting: /content/dataset/labels/train/372.txt  \n",
            " extracting: /content/dataset/labels/train/373.txt  \n",
            " extracting: /content/dataset/labels/train/374.txt  \n",
            " extracting: /content/dataset/labels/train/375.txt  \n",
            " extracting: /content/dataset/labels/train/376.txt  \n",
            " extracting: /content/dataset/labels/train/377.txt  \n",
            " extracting: /content/dataset/labels/train/378.txt  \n",
            " extracting: /content/dataset/labels/train/379.txt  \n",
            " extracting: /content/dataset/labels/train/38.txt  \n",
            " extracting: /content/dataset/labels/train/380.txt  \n",
            " extracting: /content/dataset/labels/train/381.txt  \n",
            " extracting: /content/dataset/labels/train/382.txt  \n",
            " extracting: /content/dataset/labels/train/383.txt  \n",
            " extracting: /content/dataset/labels/train/384.txt  \n",
            " extracting: /content/dataset/labels/train/385.txt  \n",
            " extracting: /content/dataset/labels/train/386.txt  \n",
            " extracting: /content/dataset/labels/train/387.txt  \n",
            " extracting: /content/dataset/labels/train/388.txt  \n",
            " extracting: /content/dataset/labels/train/389.txt  \n",
            " extracting: /content/dataset/labels/train/39.txt  \n",
            " extracting: /content/dataset/labels/train/390.txt  \n",
            " extracting: /content/dataset/labels/train/391.txt  \n",
            " extracting: /content/dataset/labels/train/392.txt  \n",
            " extracting: /content/dataset/labels/train/393.txt  \n",
            " extracting: /content/dataset/labels/train/394.txt  \n",
            " extracting: /content/dataset/labels/train/395.txt  \n",
            " extracting: /content/dataset/labels/train/396.txt  \n",
            " extracting: /content/dataset/labels/train/397.txt  \n",
            " extracting: /content/dataset/labels/train/398.txt  \n",
            " extracting: /content/dataset/labels/train/399.txt  \n",
            " extracting: /content/dataset/labels/train/4.txt  \n",
            " extracting: /content/dataset/labels/train/40.txt  \n",
            " extracting: /content/dataset/labels/train/400.txt  \n",
            " extracting: /content/dataset/labels/train/401.txt  \n",
            " extracting: /content/dataset/labels/train/402.txt  \n",
            " extracting: /content/dataset/labels/train/403.txt  \n",
            " extracting: /content/dataset/labels/train/404.txt  \n",
            " extracting: /content/dataset/labels/train/405.txt  \n",
            " extracting: /content/dataset/labels/train/406.txt  \n",
            " extracting: /content/dataset/labels/train/407.txt  \n",
            " extracting: /content/dataset/labels/train/408.txt  \n",
            " extracting: /content/dataset/labels/train/409.txt  \n",
            " extracting: /content/dataset/labels/train/41.txt  \n",
            " extracting: /content/dataset/labels/train/410.txt  \n",
            " extracting: /content/dataset/labels/train/411.txt  \n",
            " extracting: /content/dataset/labels/train/412.txt  \n",
            " extracting: /content/dataset/labels/train/413.txt  \n",
            " extracting: /content/dataset/labels/train/414.txt  \n",
            " extracting: /content/dataset/labels/train/415.txt  \n",
            " extracting: /content/dataset/labels/train/416.txt  \n",
            " extracting: /content/dataset/labels/train/417.txt  \n",
            " extracting: /content/dataset/labels/train/418.txt  \n",
            " extracting: /content/dataset/labels/train/419.txt  \n",
            " extracting: /content/dataset/labels/train/42.txt  \n",
            " extracting: /content/dataset/labels/train/420.txt  \n",
            " extracting: /content/dataset/labels/train/421.txt  \n",
            " extracting: /content/dataset/labels/train/422.txt  \n",
            " extracting: /content/dataset/labels/train/423.txt  \n",
            " extracting: /content/dataset/labels/train/424.txt  \n",
            " extracting: /content/dataset/labels/train/425.txt  \n",
            " extracting: /content/dataset/labels/train/426.txt  \n",
            " extracting: /content/dataset/labels/train/427.txt  \n",
            " extracting: /content/dataset/labels/train/428.txt  \n",
            " extracting: /content/dataset/labels/train/429.txt  \n",
            " extracting: /content/dataset/labels/train/43.txt  \n",
            " extracting: /content/dataset/labels/train/430.txt  \n",
            " extracting: /content/dataset/labels/train/431.txt  \n",
            " extracting: /content/dataset/labels/train/432.txt  \n",
            " extracting: /content/dataset/labels/train/433.txt  \n",
            " extracting: /content/dataset/labels/train/434.txt  \n",
            " extracting: /content/dataset/labels/train/435.txt  \n",
            " extracting: /content/dataset/labels/train/436.txt  \n",
            " extracting: /content/dataset/labels/train/437.txt  \n",
            " extracting: /content/dataset/labels/train/438.txt  \n",
            " extracting: /content/dataset/labels/train/439.txt  \n",
            " extracting: /content/dataset/labels/train/44.txt  \n",
            " extracting: /content/dataset/labels/train/440.txt  \n",
            " extracting: /content/dataset/labels/train/441.txt  \n",
            " extracting: /content/dataset/labels/train/442.txt  \n",
            " extracting: /content/dataset/labels/train/443.txt  \n",
            " extracting: /content/dataset/labels/train/444.txt  \n",
            " extracting: /content/dataset/labels/train/445.txt  \n",
            " extracting: /content/dataset/labels/train/446.txt  \n",
            " extracting: /content/dataset/labels/train/447.txt  \n",
            " extracting: /content/dataset/labels/train/448.txt  \n",
            " extracting: /content/dataset/labels/train/449.txt  \n",
            " extracting: /content/dataset/labels/train/45.txt  \n",
            " extracting: /content/dataset/labels/train/450.txt  \n",
            " extracting: /content/dataset/labels/train/451.txt  \n",
            " extracting: /content/dataset/labels/train/452.txt  \n",
            " extracting: /content/dataset/labels/train/453.txt  \n",
            " extracting: /content/dataset/labels/train/454.txt  \n",
            " extracting: /content/dataset/labels/train/455.txt  \n",
            " extracting: /content/dataset/labels/train/456.txt  \n",
            " extracting: /content/dataset/labels/train/457.txt  \n",
            " extracting: /content/dataset/labels/train/458.txt  \n",
            " extracting: /content/dataset/labels/train/459.txt  \n",
            " extracting: /content/dataset/labels/train/46.txt  \n",
            " extracting: /content/dataset/labels/train/460.txt  \n",
            " extracting: /content/dataset/labels/train/461.txt  \n",
            " extracting: /content/dataset/labels/train/462.txt  \n",
            " extracting: /content/dataset/labels/train/463.txt  \n",
            " extracting: /content/dataset/labels/train/464.txt  \n",
            " extracting: /content/dataset/labels/train/465.txt  \n",
            " extracting: /content/dataset/labels/train/466.txt  \n",
            " extracting: /content/dataset/labels/train/467.txt  \n",
            " extracting: /content/dataset/labels/train/468.txt  \n",
            " extracting: /content/dataset/labels/train/469.txt  \n",
            " extracting: /content/dataset/labels/train/47.txt  \n",
            " extracting: /content/dataset/labels/train/470.txt  \n",
            " extracting: /content/dataset/labels/train/471.txt  \n",
            " extracting: /content/dataset/labels/train/472.txt  \n",
            " extracting: /content/dataset/labels/train/473.txt  \n",
            " extracting: /content/dataset/labels/train/474.txt  \n",
            " extracting: /content/dataset/labels/train/475.txt  \n",
            " extracting: /content/dataset/labels/train/476.txt  \n",
            " extracting: /content/dataset/labels/train/477.txt  \n",
            " extracting: /content/dataset/labels/train/478.txt  \n",
            " extracting: /content/dataset/labels/train/479.txt  \n",
            " extracting: /content/dataset/labels/train/48.txt  \n",
            " extracting: /content/dataset/labels/train/480.txt  \n",
            " extracting: /content/dataset/labels/train/481.txt  \n",
            " extracting: /content/dataset/labels/train/482.txt  \n",
            " extracting: /content/dataset/labels/train/483.txt  \n",
            " extracting: /content/dataset/labels/train/484.txt  \n",
            " extracting: /content/dataset/labels/train/485.txt  \n",
            " extracting: /content/dataset/labels/train/486.txt  \n",
            " extracting: /content/dataset/labels/train/487.txt  \n",
            " extracting: /content/dataset/labels/train/488.txt  \n",
            " extracting: /content/dataset/labels/train/489.txt  \n",
            " extracting: /content/dataset/labels/train/49.txt  \n",
            " extracting: /content/dataset/labels/train/490.txt  \n",
            " extracting: /content/dataset/labels/train/491.txt  \n",
            " extracting: /content/dataset/labels/train/492.txt  \n",
            " extracting: /content/dataset/labels/train/493.txt  \n",
            " extracting: /content/dataset/labels/train/494.txt  \n",
            " extracting: /content/dataset/labels/train/495.txt  \n",
            " extracting: /content/dataset/labels/train/496.txt  \n",
            " extracting: /content/dataset/labels/train/497.txt  \n",
            " extracting: /content/dataset/labels/train/498.txt  \n",
            " extracting: /content/dataset/labels/train/499.txt  \n",
            " extracting: /content/dataset/labels/train/5.txt  \n",
            " extracting: /content/dataset/labels/train/50.txt  \n",
            " extracting: /content/dataset/labels/train/500.txt  \n",
            " extracting: /content/dataset/labels/train/501.txt  \n",
            " extracting: /content/dataset/labels/train/502.txt  \n",
            " extracting: /content/dataset/labels/train/503.txt  \n",
            " extracting: /content/dataset/labels/train/504.txt  \n",
            " extracting: /content/dataset/labels/train/505.txt  \n",
            " extracting: /content/dataset/labels/train/506.txt  \n",
            " extracting: /content/dataset/labels/train/507.txt  \n",
            " extracting: /content/dataset/labels/train/508.txt  \n",
            " extracting: /content/dataset/labels/train/509.txt  \n",
            " extracting: /content/dataset/labels/train/51.txt  \n",
            " extracting: /content/dataset/labels/train/510.txt  \n",
            " extracting: /content/dataset/labels/train/511.txt  \n",
            " extracting: /content/dataset/labels/train/512.txt  \n",
            " extracting: /content/dataset/labels/train/513.txt  \n",
            " extracting: /content/dataset/labels/train/514.txt  \n",
            " extracting: /content/dataset/labels/train/515.txt  \n",
            " extracting: /content/dataset/labels/train/516.txt  \n",
            " extracting: /content/dataset/labels/train/517.txt  \n",
            " extracting: /content/dataset/labels/train/518.txt  \n",
            " extracting: /content/dataset/labels/train/519.txt  \n",
            " extracting: /content/dataset/labels/train/52.txt  \n",
            " extracting: /content/dataset/labels/train/520.txt  \n",
            " extracting: /content/dataset/labels/train/521.txt  \n",
            " extracting: /content/dataset/labels/train/522.txt  \n",
            " extracting: /content/dataset/labels/train/523.txt  \n",
            " extracting: /content/dataset/labels/train/524.txt  \n",
            " extracting: /content/dataset/labels/train/525.txt  \n",
            " extracting: /content/dataset/labels/train/526.txt  \n",
            " extracting: /content/dataset/labels/train/527.txt  \n",
            " extracting: /content/dataset/labels/train/528.txt  \n",
            " extracting: /content/dataset/labels/train/529.txt  \n",
            " extracting: /content/dataset/labels/train/53.txt  \n",
            " extracting: /content/dataset/labels/train/530.txt  \n",
            " extracting: /content/dataset/labels/train/531.txt  \n",
            " extracting: /content/dataset/labels/train/532.txt  \n",
            " extracting: /content/dataset/labels/train/533.txt  \n",
            " extracting: /content/dataset/labels/train/534.txt  \n",
            " extracting: /content/dataset/labels/train/535.txt  \n",
            " extracting: /content/dataset/labels/train/536.txt  \n",
            " extracting: /content/dataset/labels/train/537.txt  \n",
            " extracting: /content/dataset/labels/train/538.txt  \n",
            " extracting: /content/dataset/labels/train/539.txt  \n",
            " extracting: /content/dataset/labels/train/54.txt  \n",
            " extracting: /content/dataset/labels/train/540.txt  \n",
            " extracting: /content/dataset/labels/train/541.txt  \n",
            " extracting: /content/dataset/labels/train/542.txt  \n",
            " extracting: /content/dataset/labels/train/543.txt  \n",
            " extracting: /content/dataset/labels/train/544.txt  \n",
            " extracting: /content/dataset/labels/train/545.txt  \n",
            " extracting: /content/dataset/labels/train/546.txt  \n",
            " extracting: /content/dataset/labels/train/547.txt  \n",
            " extracting: /content/dataset/labels/train/548.txt  \n",
            " extracting: /content/dataset/labels/train/549.txt  \n",
            " extracting: /content/dataset/labels/train/55.txt  \n",
            " extracting: /content/dataset/labels/train/550.txt  \n",
            " extracting: /content/dataset/labels/train/551.txt  \n",
            " extracting: /content/dataset/labels/train/552.txt  \n",
            " extracting: /content/dataset/labels/train/553.txt  \n",
            " extracting: /content/dataset/labels/train/554.txt  \n",
            " extracting: /content/dataset/labels/train/555.txt  \n",
            " extracting: /content/dataset/labels/train/556.txt  \n",
            " extracting: /content/dataset/labels/train/557.txt  \n",
            " extracting: /content/dataset/labels/train/558.txt  \n",
            " extracting: /content/dataset/labels/train/559.txt  \n",
            " extracting: /content/dataset/labels/train/56.txt  \n",
            " extracting: /content/dataset/labels/train/560.txt  \n",
            " extracting: /content/dataset/labels/train/561.txt  \n",
            " extracting: /content/dataset/labels/train/562.txt  \n",
            " extracting: /content/dataset/labels/train/563.txt  \n",
            " extracting: /content/dataset/labels/train/564.txt  \n",
            " extracting: /content/dataset/labels/train/565.txt  \n",
            " extracting: /content/dataset/labels/train/566.txt  \n",
            " extracting: /content/dataset/labels/train/567.txt  \n",
            " extracting: /content/dataset/labels/train/568.txt  \n",
            " extracting: /content/dataset/labels/train/569.txt  \n",
            " extracting: /content/dataset/labels/train/57.txt  \n",
            " extracting: /content/dataset/labels/train/570.txt  \n",
            " extracting: /content/dataset/labels/train/571.txt  \n",
            " extracting: /content/dataset/labels/train/572.txt  \n",
            " extracting: /content/dataset/labels/train/573.txt  \n",
            " extracting: /content/dataset/labels/train/574.txt  \n",
            " extracting: /content/dataset/labels/train/575.txt  \n",
            " extracting: /content/dataset/labels/train/576.txt  \n",
            " extracting: /content/dataset/labels/train/577.txt  \n",
            " extracting: /content/dataset/labels/train/578.txt  \n",
            " extracting: /content/dataset/labels/train/579.txt  \n",
            " extracting: /content/dataset/labels/train/58.txt  \n",
            " extracting: /content/dataset/labels/train/580.txt  \n",
            " extracting: /content/dataset/labels/train/581.txt  \n",
            " extracting: /content/dataset/labels/train/582.txt  \n",
            " extracting: /content/dataset/labels/train/583.txt  \n",
            " extracting: /content/dataset/labels/train/584.txt  \n",
            " extracting: /content/dataset/labels/train/585.txt  \n",
            " extracting: /content/dataset/labels/train/586.txt  \n",
            " extracting: /content/dataset/labels/train/587.txt  \n",
            " extracting: /content/dataset/labels/train/588.txt  \n",
            " extracting: /content/dataset/labels/train/589.txt  \n",
            " extracting: /content/dataset/labels/train/59.txt  \n",
            " extracting: /content/dataset/labels/train/590.txt  \n",
            " extracting: /content/dataset/labels/train/591.txt  \n",
            " extracting: /content/dataset/labels/train/592.txt  \n",
            " extracting: /content/dataset/labels/train/593.txt  \n",
            " extracting: /content/dataset/labels/train/594.txt  \n",
            " extracting: /content/dataset/labels/train/595.txt  \n",
            " extracting: /content/dataset/labels/train/596.txt  \n",
            " extracting: /content/dataset/labels/train/597.txt  \n",
            " extracting: /content/dataset/labels/train/598.txt  \n",
            " extracting: /content/dataset/labels/train/599.txt  \n",
            " extracting: /content/dataset/labels/train/6.txt  \n",
            " extracting: /content/dataset/labels/train/60.txt  \n",
            " extracting: /content/dataset/labels/train/600.txt  \n",
            " extracting: /content/dataset/labels/train/601.txt  \n",
            " extracting: /content/dataset/labels/train/602.txt  \n",
            " extracting: /content/dataset/labels/train/603.txt  \n",
            " extracting: /content/dataset/labels/train/604.txt  \n",
            " extracting: /content/dataset/labels/train/605.txt  \n",
            " extracting: /content/dataset/labels/train/606.txt  \n",
            " extracting: /content/dataset/labels/train/607.txt  \n",
            " extracting: /content/dataset/labels/train/608.txt  \n",
            " extracting: /content/dataset/labels/train/609.txt  \n",
            " extracting: /content/dataset/labels/train/61.txt  \n",
            " extracting: /content/dataset/labels/train/610.txt  \n",
            " extracting: /content/dataset/labels/train/611.txt  \n",
            " extracting: /content/dataset/labels/train/612.txt  \n",
            " extracting: /content/dataset/labels/train/613.txt  \n",
            " extracting: /content/dataset/labels/train/614.txt  \n",
            " extracting: /content/dataset/labels/train/615.txt  \n",
            " extracting: /content/dataset/labels/train/616.txt  \n",
            " extracting: /content/dataset/labels/train/617.txt  \n",
            " extracting: /content/dataset/labels/train/618.txt  \n",
            " extracting: /content/dataset/labels/train/619.txt  \n",
            " extracting: /content/dataset/labels/train/62.txt  \n",
            " extracting: /content/dataset/labels/train/620.txt  \n",
            " extracting: /content/dataset/labels/train/621.txt  \n",
            " extracting: /content/dataset/labels/train/622.txt  \n",
            " extracting: /content/dataset/labels/train/623.txt  \n",
            " extracting: /content/dataset/labels/train/624.txt  \n",
            " extracting: /content/dataset/labels/train/625.txt  \n",
            " extracting: /content/dataset/labels/train/626.txt  \n",
            " extracting: /content/dataset/labels/train/627.txt  \n",
            " extracting: /content/dataset/labels/train/628.txt  \n",
            " extracting: /content/dataset/labels/train/629.txt  \n",
            " extracting: /content/dataset/labels/train/63.txt  \n",
            " extracting: /content/dataset/labels/train/630.txt  \n",
            " extracting: /content/dataset/labels/train/631.txt  \n",
            " extracting: /content/dataset/labels/train/632.txt  \n",
            " extracting: /content/dataset/labels/train/633.txt  \n",
            " extracting: /content/dataset/labels/train/634.txt  \n",
            " extracting: /content/dataset/labels/train/635.txt  \n",
            " extracting: /content/dataset/labels/train/636.txt  \n",
            " extracting: /content/dataset/labels/train/637.txt  \n",
            " extracting: /content/dataset/labels/train/638.txt  \n",
            " extracting: /content/dataset/labels/train/639.txt  \n",
            " extracting: /content/dataset/labels/train/64.txt  \n",
            " extracting: /content/dataset/labels/train/640.txt  \n",
            " extracting: /content/dataset/labels/train/641.txt  \n",
            " extracting: /content/dataset/labels/train/642.txt  \n",
            " extracting: /content/dataset/labels/train/643.txt  \n",
            " extracting: /content/dataset/labels/train/644.txt  \n",
            " extracting: /content/dataset/labels/train/645.txt  \n",
            " extracting: /content/dataset/labels/train/646.txt  \n",
            " extracting: /content/dataset/labels/train/647.txt  \n",
            " extracting: /content/dataset/labels/train/648.txt  \n",
            " extracting: /content/dataset/labels/train/649.txt  \n",
            " extracting: /content/dataset/labels/train/65.txt  \n",
            " extracting: /content/dataset/labels/train/650.txt  \n",
            " extracting: /content/dataset/labels/train/651.txt  \n",
            " extracting: /content/dataset/labels/train/652.txt  \n",
            " extracting: /content/dataset/labels/train/653.txt  \n",
            " extracting: /content/dataset/labels/train/654.txt  \n",
            " extracting: /content/dataset/labels/train/655.txt  \n",
            " extracting: /content/dataset/labels/train/656.txt  \n",
            " extracting: /content/dataset/labels/train/657.txt  \n",
            " extracting: /content/dataset/labels/train/658.txt  \n",
            " extracting: /content/dataset/labels/train/659.txt  \n",
            " extracting: /content/dataset/labels/train/66.txt  \n",
            " extracting: /content/dataset/labels/train/660.txt  \n",
            " extracting: /content/dataset/labels/train/661.txt  \n",
            " extracting: /content/dataset/labels/train/662.txt  \n",
            " extracting: /content/dataset/labels/train/663.txt  \n",
            " extracting: /content/dataset/labels/train/664.txt  \n",
            " extracting: /content/dataset/labels/train/665.txt  \n",
            " extracting: /content/dataset/labels/train/666.txt  \n",
            " extracting: /content/dataset/labels/train/667.txt  \n",
            " extracting: /content/dataset/labels/train/668.txt  \n",
            " extracting: /content/dataset/labels/train/669.txt  \n",
            " extracting: /content/dataset/labels/train/67.txt  \n",
            " extracting: /content/dataset/labels/train/670.txt  \n",
            " extracting: /content/dataset/labels/train/671.txt  \n",
            " extracting: /content/dataset/labels/train/672.txt  \n",
            " extracting: /content/dataset/labels/train/673.txt  \n",
            " extracting: /content/dataset/labels/train/674.txt  \n",
            " extracting: /content/dataset/labels/train/675.txt  \n",
            " extracting: /content/dataset/labels/train/676.txt  \n",
            " extracting: /content/dataset/labels/train/677.txt  \n",
            " extracting: /content/dataset/labels/train/678.txt  \n",
            " extracting: /content/dataset/labels/train/679.txt  \n",
            " extracting: /content/dataset/labels/train/68.txt  \n",
            " extracting: /content/dataset/labels/train/680.txt  \n",
            " extracting: /content/dataset/labels/train/681.txt  \n",
            " extracting: /content/dataset/labels/train/682.txt  \n",
            " extracting: /content/dataset/labels/train/683.txt  \n",
            " extracting: /content/dataset/labels/train/684.txt  \n",
            " extracting: /content/dataset/labels/train/685.txt  \n",
            " extracting: /content/dataset/labels/train/686.txt  \n",
            " extracting: /content/dataset/labels/train/687.txt  \n",
            " extracting: /content/dataset/labels/train/688.txt  \n",
            " extracting: /content/dataset/labels/train/689.txt  \n",
            " extracting: /content/dataset/labels/train/69.txt  \n",
            " extracting: /content/dataset/labels/train/690.txt  \n",
            " extracting: /content/dataset/labels/train/691.txt  \n",
            " extracting: /content/dataset/labels/train/692.txt  \n",
            " extracting: /content/dataset/labels/train/693.txt  \n",
            " extracting: /content/dataset/labels/train/694.txt  \n",
            " extracting: /content/dataset/labels/train/695.txt  \n",
            " extracting: /content/dataset/labels/train/696.txt  \n",
            " extracting: /content/dataset/labels/train/697.txt  \n",
            " extracting: /content/dataset/labels/train/698.txt  \n",
            " extracting: /content/dataset/labels/train/699.txt  \n",
            " extracting: /content/dataset/labels/train/7.txt  \n",
            " extracting: /content/dataset/labels/train/70.txt  \n",
            " extracting: /content/dataset/labels/train/700.txt  \n",
            " extracting: /content/dataset/labels/train/701.txt  \n",
            " extracting: /content/dataset/labels/train/702.txt  \n",
            " extracting: /content/dataset/labels/train/703.txt  \n",
            " extracting: /content/dataset/labels/train/704.txt  \n",
            " extracting: /content/dataset/labels/train/705.txt  \n",
            " extracting: /content/dataset/labels/train/706.txt  \n",
            " extracting: /content/dataset/labels/train/707.txt  \n",
            " extracting: /content/dataset/labels/train/708.txt  \n",
            " extracting: /content/dataset/labels/train/709.txt  \n",
            " extracting: /content/dataset/labels/train/71.txt  \n",
            " extracting: /content/dataset/labels/train/710.txt  \n",
            " extracting: /content/dataset/labels/train/711.txt  \n",
            " extracting: /content/dataset/labels/train/712.txt  \n",
            " extracting: /content/dataset/labels/train/713.txt  \n",
            " extracting: /content/dataset/labels/train/714.txt  \n",
            " extracting: /content/dataset/labels/train/715.txt  \n",
            " extracting: /content/dataset/labels/train/716.txt  \n",
            " extracting: /content/dataset/labels/train/717.txt  \n",
            " extracting: /content/dataset/labels/train/718.txt  \n",
            " extracting: /content/dataset/labels/train/719.txt  \n",
            " extracting: /content/dataset/labels/train/72.txt  \n",
            " extracting: /content/dataset/labels/train/720.txt  \n",
            " extracting: /content/dataset/labels/train/721.txt  \n",
            " extracting: /content/dataset/labels/train/722.txt  \n",
            " extracting: /content/dataset/labels/train/723.txt  \n",
            " extracting: /content/dataset/labels/train/724.txt  \n",
            " extracting: /content/dataset/labels/train/725.txt  \n",
            " extracting: /content/dataset/labels/train/726.txt  \n",
            " extracting: /content/dataset/labels/train/727.txt  \n",
            " extracting: /content/dataset/labels/train/728.txt  \n",
            " extracting: /content/dataset/labels/train/729.txt  \n",
            " extracting: /content/dataset/labels/train/73.txt  \n",
            " extracting: /content/dataset/labels/train/730.txt  \n",
            " extracting: /content/dataset/labels/train/731.txt  \n",
            " extracting: /content/dataset/labels/train/732.txt  \n",
            " extracting: /content/dataset/labels/train/733.txt  \n",
            " extracting: /content/dataset/labels/train/734.txt  \n",
            " extracting: /content/dataset/labels/train/735.txt  \n",
            " extracting: /content/dataset/labels/train/736.txt  \n",
            " extracting: /content/dataset/labels/train/737.txt  \n",
            " extracting: /content/dataset/labels/train/738.txt  \n",
            " extracting: /content/dataset/labels/train/739.txt  \n",
            " extracting: /content/dataset/labels/train/74.txt  \n",
            " extracting: /content/dataset/labels/train/740.txt  \n",
            " extracting: /content/dataset/labels/train/741.txt  \n",
            " extracting: /content/dataset/labels/train/742.txt  \n",
            " extracting: /content/dataset/labels/train/743.txt  \n",
            " extracting: /content/dataset/labels/train/744.txt  \n",
            " extracting: /content/dataset/labels/train/745.txt  \n",
            " extracting: /content/dataset/labels/train/746.txt  \n",
            " extracting: /content/dataset/labels/train/747.txt  \n",
            " extracting: /content/dataset/labels/train/748.txt  \n",
            " extracting: /content/dataset/labels/train/749.txt  \n",
            " extracting: /content/dataset/labels/train/75.txt  \n",
            " extracting: /content/dataset/labels/train/750.txt  \n",
            " extracting: /content/dataset/labels/train/751.txt  \n",
            " extracting: /content/dataset/labels/train/752.txt  \n",
            " extracting: /content/dataset/labels/train/753.txt  \n",
            " extracting: /content/dataset/labels/train/754.txt  \n",
            " extracting: /content/dataset/labels/train/755.txt  \n",
            " extracting: /content/dataset/labels/train/756.txt  \n",
            " extracting: /content/dataset/labels/train/757.txt  \n",
            " extracting: /content/dataset/labels/train/758.txt  \n",
            " extracting: /content/dataset/labels/train/759.txt  \n",
            " extracting: /content/dataset/labels/train/76.txt  \n",
            " extracting: /content/dataset/labels/train/760.txt  \n",
            " extracting: /content/dataset/labels/train/761.txt  \n",
            " extracting: /content/dataset/labels/train/762.txt  \n",
            " extracting: /content/dataset/labels/train/763.txt  \n",
            " extracting: /content/dataset/labels/train/764.txt  \n",
            " extracting: /content/dataset/labels/train/765.txt  \n",
            " extracting: /content/dataset/labels/train/766.txt  \n",
            " extracting: /content/dataset/labels/train/767.txt  \n",
            " extracting: /content/dataset/labels/train/768.txt  \n",
            " extracting: /content/dataset/labels/train/769.txt  \n",
            " extracting: /content/dataset/labels/train/77.txt  \n",
            " extracting: /content/dataset/labels/train/770.txt  \n",
            " extracting: /content/dataset/labels/train/771.txt  \n",
            " extracting: /content/dataset/labels/train/772.txt  \n",
            " extracting: /content/dataset/labels/train/773.txt  \n",
            " extracting: /content/dataset/labels/train/774.txt  \n",
            " extracting: /content/dataset/labels/train/775.txt  \n",
            " extracting: /content/dataset/labels/train/776.txt  \n",
            " extracting: /content/dataset/labels/train/777.txt  \n",
            " extracting: /content/dataset/labels/train/778.txt  \n",
            " extracting: /content/dataset/labels/train/779.txt  \n",
            " extracting: /content/dataset/labels/train/78.txt  \n",
            " extracting: /content/dataset/labels/train/780.txt  \n",
            " extracting: /content/dataset/labels/train/781.txt  \n",
            " extracting: /content/dataset/labels/train/782.txt  \n",
            " extracting: /content/dataset/labels/train/783.txt  \n",
            " extracting: /content/dataset/labels/train/784.txt  \n",
            " extracting: /content/dataset/labels/train/785.txt  \n",
            " extracting: /content/dataset/labels/train/786.txt  \n",
            " extracting: /content/dataset/labels/train/787.txt  \n",
            " extracting: /content/dataset/labels/train/788.txt  \n",
            " extracting: /content/dataset/labels/train/789.txt  \n",
            " extracting: /content/dataset/labels/train/79.txt  \n",
            " extracting: /content/dataset/labels/train/790.txt  \n",
            " extracting: /content/dataset/labels/train/791.txt  \n",
            " extracting: /content/dataset/labels/train/792.txt  \n",
            " extracting: /content/dataset/labels/train/8.txt  \n",
            " extracting: /content/dataset/labels/train/80.txt  \n",
            " extracting: /content/dataset/labels/train/81.txt  \n",
            " extracting: /content/dataset/labels/train/82.txt  \n",
            " extracting: /content/dataset/labels/train/83.txt  \n",
            " extracting: /content/dataset/labels/train/84.txt  \n",
            " extracting: /content/dataset/labels/train/85.txt  \n",
            " extracting: /content/dataset/labels/train/86.txt  \n",
            " extracting: /content/dataset/labels/train/87.txt  \n",
            " extracting: /content/dataset/labels/train/88.txt  \n",
            " extracting: /content/dataset/labels/train/89.txt  \n",
            " extracting: /content/dataset/labels/train/9.txt  \n",
            " extracting: /content/dataset/labels/train/90.txt  \n",
            " extracting: /content/dataset/labels/train/91.txt  \n",
            " extracting: /content/dataset/labels/train/92.txt  \n",
            " extracting: /content/dataset/labels/train/93.txt  \n",
            " extracting: /content/dataset/labels/train/94.txt  \n",
            " extracting: /content/dataset/labels/train/95.txt  \n",
            " extracting: /content/dataset/labels/train/96.txt  \n",
            " extracting: /content/dataset/labels/train/97.txt  \n",
            " extracting: /content/dataset/labels/train/98.txt  \n",
            " extracting: /content/dataset/labels/train/99.txt  \n",
            " extracting: /content/dataset/labels/val/793.txt  \n",
            " extracting: /content/dataset/labels/val/794.txt  \n",
            " extracting: /content/dataset/labels/val/795.txt  \n",
            " extracting: /content/dataset/labels/val/796.txt  \n",
            " extracting: /content/dataset/labels/val/797.txt  \n",
            " extracting: /content/dataset/labels/val/798.txt  \n",
            " extracting: /content/dataset/labels/val/799.txt  \n",
            " extracting: /content/dataset/labels/val/800.txt  \n",
            " extracting: /content/dataset/labels/val/801.txt  \n",
            " extracting: /content/dataset/labels/val/802.txt  \n",
            " extracting: /content/dataset/labels/val/803.txt  \n",
            " extracting: /content/dataset/labels/val/804.txt  \n",
            " extracting: /content/dataset/labels/val/805.txt  \n",
            " extracting: /content/dataset/labels/val/806.txt  \n",
            " extracting: /content/dataset/labels/val/807.txt  \n",
            " extracting: /content/dataset/labels/val/808.txt  \n",
            " extracting: /content/dataset/labels/val/809.txt  \n",
            " extracting: /content/dataset/labels/val/810.txt  \n",
            " extracting: /content/dataset/labels/val/811.txt  \n",
            " extracting: /content/dataset/labels/val/812.txt  \n",
            " extracting: /content/dataset/labels/val/813.txt  \n",
            " extracting: /content/dataset/labels/val/814.txt  \n",
            " extracting: /content/dataset/labels/val/815.txt  \n",
            " extracting: /content/dataset/labels/val/816.txt  \n",
            " extracting: /content/dataset/labels/val/817.txt  \n",
            " extracting: /content/dataset/labels/val/818.txt  \n",
            " extracting: /content/dataset/labels/val/819.txt  \n",
            " extracting: /content/dataset/labels/val/820.txt  \n",
            " extracting: /content/dataset/labels/val/821.txt  \n",
            " extracting: /content/dataset/labels/val/822.txt  \n",
            " extracting: /content/dataset/labels/val/823.txt  \n",
            " extracting: /content/dataset/labels/val/824.txt  \n",
            " extracting: /content/dataset/labels/val/825.txt  \n",
            " extracting: /content/dataset/labels/val/826.txt  \n",
            " extracting: /content/dataset/labels/val/827.txt  \n",
            " extracting: /content/dataset/labels/val/828.txt  \n",
            " extracting: /content/dataset/labels/val/829.txt  \n",
            " extracting: /content/dataset/labels/val/830.txt  \n",
            " extracting: /content/dataset/labels/val/831.txt  \n",
            " extracting: /content/dataset/labels/val/832.txt  \n",
            " extracting: /content/dataset/labels/val/833.txt  \n",
            " extracting: /content/dataset/labels/val/834.txt  \n",
            " extracting: /content/dataset/labels/val/835.txt  \n",
            " extracting: /content/dataset/labels/val/836.txt  \n",
            " extracting: /content/dataset/labels/val/837.txt  \n",
            " extracting: /content/dataset/labels/val/838.txt  \n",
            " extracting: /content/dataset/labels/val/839.txt  \n",
            " extracting: /content/dataset/labels/val/840.txt  \n",
            " extracting: /content/dataset/labels/val/841.txt  \n",
            " extracting: /content/dataset/labels/val/842.txt  \n",
            " extracting: /content/dataset/labels/val/843.txt  \n",
            " extracting: /content/dataset/labels/val/844.txt  \n",
            " extracting: /content/dataset/labels/val/845.txt  \n",
            " extracting: /content/dataset/labels/val/846.txt  \n",
            " extracting: /content/dataset/labels/val/847.txt  \n",
            " extracting: /content/dataset/labels/val/848.txt  \n",
            " extracting: /content/dataset/labels/val/849.txt  \n",
            " extracting: /content/dataset/labels/val/850.txt  \n",
            " extracting: /content/dataset/labels/val/851.txt  \n",
            " extracting: /content/dataset/labels/val/852.txt  \n",
            " extracting: /content/dataset/labels/val/853.txt  \n",
            " extracting: /content/dataset/labels/val/854.txt  \n",
            " extracting: /content/dataset/labels/val/855.txt  \n",
            " extracting: /content/dataset/labels/val/856.txt  \n",
            " extracting: /content/dataset/labels/val/857.txt  \n",
            " extracting: /content/dataset/labels/val/858.txt  \n",
            " extracting: /content/dataset/labels/val/859.txt  \n",
            " extracting: /content/dataset/labels/val/860.txt  \n",
            " extracting: /content/dataset/labels/val/861.txt  \n",
            " extracting: /content/dataset/labels/val/862.txt  \n",
            " extracting: /content/dataset/labels/val/863.txt  \n",
            " extracting: /content/dataset/labels/val/864.txt  \n",
            " extracting: /content/dataset/labels/val/865.txt  \n",
            " extracting: /content/dataset/labels/val/866.txt  \n",
            " extracting: /content/dataset/labels/val/867.txt  \n",
            " extracting: /content/dataset/labels/val/868.txt  \n",
            " extracting: /content/dataset/labels/val/869.txt  \n",
            " extracting: /content/dataset/labels/val/870.txt  \n",
            " extracting: /content/dataset/labels/val/871.txt  \n",
            " extracting: /content/dataset/labels/val/872.txt  \n",
            " extracting: /content/dataset/labels/val/873.txt  \n",
            " extracting: /content/dataset/labels/val/874.txt  \n",
            " extracting: /content/dataset/labels/val/875.txt  \n",
            " extracting: /content/dataset/labels/val/876.txt  \n",
            " extracting: /content/dataset/labels/val/877.txt  \n",
            " extracting: /content/dataset/labels/val/878.txt  \n",
            " extracting: /content/dataset/labels/val/879.txt  \n",
            " extracting: /content/dataset/labels/val/880.txt  \n",
            " extracting: /content/dataset/labels/val/881.txt  \n",
            " extracting: /content/dataset/labels/val/882.txt  \n",
            " extracting: /content/dataset/labels/val/883.txt  \n",
            " extracting: /content/dataset/labels/val/884.txt  \n",
            " extracting: /content/dataset/labels/val/885.txt  \n",
            " extracting: /content/dataset/labels/val/886.txt  \n",
            " extracting: /content/dataset/labels/val/887.txt  \n",
            " extracting: /content/dataset/labels/val/888.txt  \n",
            " extracting: /content/dataset/labels/val/889.txt  \n",
            " extracting: /content/dataset/labels/val/890.txt  \n",
            " extracting: /content/dataset/labels/val/891.txt  \n",
            " extracting: /content/dataset/labels/val/892.txt  \n",
            " extracting: /content/dataset/labels/val/893.txt  \n",
            " extracting: /content/dataset/labels/val/894.txt  \n",
            " extracting: /content/dataset/labels/val/895.txt  \n",
            " extracting: /content/dataset/labels/val/896.txt  \n",
            " extracting: /content/dataset/labels/val/897.txt  \n",
            " extracting: /content/dataset/labels/val/898.txt  \n",
            " extracting: /content/dataset/labels/val/899.txt  \n",
            " extracting: /content/dataset/labels/val/900.txt  \n",
            " extracting: /content/dataset/labels/val/901.txt  \n",
            " extracting: /content/dataset/labels/val/902.txt  \n",
            " extracting: /content/dataset/labels/val/903.txt  \n",
            " extracting: /content/dataset/labels/val/904.txt  \n",
            " extracting: /content/dataset/labels/val/905.txt  \n",
            " extracting: /content/dataset/labels/val/906.txt  \n",
            " extracting: /content/dataset/labels/val/907.txt  \n",
            " extracting: /content/dataset/labels/val/908.txt  \n",
            " extracting: /content/dataset/labels/val/909.txt  \n",
            " extracting: /content/dataset/labels/val/910.txt  \n",
            " extracting: /content/dataset/labels/val/911.txt  \n",
            " extracting: /content/dataset/labels/val/912.txt  \n",
            " extracting: /content/dataset/labels/val/913.txt  \n",
            " extracting: /content/dataset/labels/val/914.txt  \n",
            " extracting: /content/dataset/labels/val/915.txt  \n",
            " extracting: /content/dataset/labels/val/916.txt  \n",
            " extracting: /content/dataset/labels/val/917.txt  \n",
            " extracting: /content/dataset/labels/val/918.txt  \n",
            " extracting: /content/dataset/labels/val/919.txt  \n",
            " extracting: /content/dataset/labels/val/920.txt  \n",
            " extracting: /content/dataset/labels/val/921.txt  \n",
            " extracting: /content/dataset/labels/val/922.txt  \n",
            " extracting: /content/dataset/labels/val/923.txt  \n",
            " extracting: /content/dataset/labels/val/924.txt  \n",
            " extracting: /content/dataset/labels/val/925.txt  \n",
            " extracting: /content/dataset/labels/val/926.txt  \n",
            " extracting: /content/dataset/labels/val/927.txt  \n",
            " extracting: /content/dataset/labels/val/928.txt  \n",
            " extracting: /content/dataset/labels/val/929.txt  \n",
            " extracting: /content/dataset/labels/val/930.txt  \n",
            " extracting: /content/dataset/labels/val/931.txt  \n",
            " extracting: /content/dataset/labels/val/932.txt  \n",
            " extracting: /content/dataset/labels/val/933.txt  \n",
            " extracting: /content/dataset/labels/val/934.txt  \n",
            " extracting: /content/dataset/labels/val/935.txt  \n",
            " extracting: /content/dataset/labels/val/936.txt  \n",
            " extracting: /content/dataset/labels/val/937.txt  \n",
            " extracting: /content/dataset/labels/val/938.txt  \n",
            " extracting: /content/dataset/labels/val/939.txt  \n",
            " extracting: /content/dataset/labels/val/940.txt  \n",
            " extracting: /content/dataset/labels/val/941.txt  \n",
            " extracting: /content/dataset/labels/val/942.txt  \n",
            " extracting: /content/dataset/labels/val/943.txt  \n",
            " extracting: /content/dataset/labels/val/944.txt  \n",
            " extracting: /content/dataset/labels/val/945.txt  \n",
            " extracting: /content/dataset/labels/val/946.txt  \n",
            " extracting: /content/dataset/labels/val/947.txt  \n",
            " extracting: /content/dataset/labels/val/948.txt  \n",
            " extracting: /content/dataset/labels/val/949.txt  \n",
            " extracting: /content/dataset/labels/val/950.txt  \n",
            " extracting: /content/dataset/labels/val/951.txt  \n",
            " extracting: /content/dataset/labels/val/952.txt  \n",
            " extracting: /content/dataset/labels/val/953.txt  \n",
            " extracting: /content/dataset/labels/val/954.txt  \n",
            " extracting: /content/dataset/labels/val/955.txt  \n",
            " extracting: /content/dataset/labels/val/956.txt  \n",
            " extracting: /content/dataset/labels/val/957.txt  \n",
            " extracting: /content/dataset/labels/val/958.txt  \n",
            " extracting: /content/dataset/labels/val/959.txt  \n",
            " extracting: /content/dataset/labels/val/960.txt  \n",
            " extracting: /content/dataset/labels/val/961.txt  \n",
            " extracting: /content/dataset/labels/val/962.txt  \n",
            " extracting: /content/dataset/labels/val/963.txt  \n",
            " extracting: /content/dataset/labels/val/964.txt  \n",
            " extracting: /content/dataset/labels/val/965.txt  \n",
            " extracting: /content/dataset/labels/val/966.txt  \n",
            " extracting: /content/dataset/labels/val/967.txt  \n",
            " extracting: /content/dataset/labels/val/968.txt  \n",
            " extracting: /content/dataset/labels/val/969.txt  \n",
            " extracting: /content/dataset/labels/val/970.txt  \n",
            " extracting: /content/dataset/labels/val/971.txt  \n",
            " extracting: /content/dataset/labels/val/972.txt  \n",
            " extracting: /content/dataset/labels/val/973.txt  \n",
            " extracting: /content/dataset/labels/val/974.txt  \n",
            " extracting: /content/dataset/labels/val/975.txt  \n",
            " extracting: /content/dataset/labels/val/976.txt  \n"
          ]
        }
      ]
    },
    {
      "cell_type": "markdown",
      "metadata": {
        "id": "rgCnV51EuIyk"
      },
      "source": [
        "# Bounding box"
      ]
    },
    {
      "cell_type": "code",
      "metadata": {
        "id": "hmoPXDMzu9D8"
      },
      "source": [
        "import numpy as np\n",
        "from PIL import Image\n",
        "import matplotlib.patches as patches\n",
        "import matplotlib.pyplot as plt\n",
        "import os\n",
        "import cv2"
      ],
      "execution_count": null,
      "outputs": []
    },
    {
      "cell_type": "code",
      "metadata": {
        "id": "ZOd9f3geuIEP"
      },
      "source": [
        "def read_label(label_path):\n",
        "  with open(label_path) as f:\n",
        "    for line in f:\n",
        "      yield list(map(float,line.split()))\n",
        "\n",
        "def save_bounded_box_img(img_path, label_path, save_dir=''):\n",
        "  im = cv2.imread(img_path) \n",
        "  img_h, img_w = im.shape[:2]\n",
        "  print(im.shape[:2])\n",
        "  for obj in read_label(label_path):\n",
        "    start_point = (int((obj[1]-obj[3]/2)*img_w), int((obj[2]-obj[4]/2)*img_h))\n",
        "    end_point = (int((obj[1]+obj[3]/2)*img_w), int((obj[2]+obj[4]/2)*img_h))\n",
        "    if obj[0]==0:\n",
        "      color = (255, 0, 0)\n",
        "      image = cv2.rectangle(im, start_point, end_point, color, thickness=-1) \n",
        "    elif obj[0]==1:\n",
        "      color = (0, 255, 0)\n",
        "      image = cv2.rectangle(im, start_point, end_point, color, thickness=-1) \n",
        "    else:\n",
        "      color = (0, 0, 255)\n",
        "      im = cv2.rectangle(im, start_point, end_point, color, thickness=-1) \n",
        "  cv2.imwrite(save_dir + img_path.split('/')[-1], im)"
      ],
      "execution_count": null,
      "outputs": []
    },
    {
      "cell_type": "code",
      "metadata": {
        "id": "kRhB02WUSq3X"
      },
      "source": [
        "# def rectangle_yolo(coords, img_shape, linewidth=1, edgecolor='red', facecolor='none'):\n",
        "#   \"\"\"\n",
        "#   input:\n",
        "#     coords: 5 values: \n",
        "#       [0]: classification, \n",
        "#       [1,2]: x_center, y_center, \n",
        "#       [3,4]: width, height\n",
        "#     imgm_shape: width & height of image, is a tuple\n",
        "#   return: Rectangle\n",
        "#   \"\"\"\n",
        "#   w_real = coords[3]*img_shape[0]\n",
        "#   h_real = coords[4]*img_shape[1]\n",
        "#   return patches.Rectangle((coords[1]*img_shape[0]-w_real/2, coords[2]*img_shape[1]-h_real/2), w_real, h_real, \n",
        "#                            linewidth=linewidth, edgecolor=edgecolor, facecolor=facecolor\n",
        "#                            )\n",
        "  \n",
        "\n",
        "# def save_bounded_box_img(img_path, label_path, save_dir=''):\n",
        "#   im = Image.open(img_path)\n",
        "#   img_shape = im.size\n",
        "#   print(img_shape)\n",
        "#   plt.figure(figsize=(img_shape[0]/100.0,img_shape[1]/100.0))\n",
        "#   fig, ax = plt.subplots()\n",
        "#   ax.imshow(im)\n",
        "#   for obj in read_label(label_path):\n",
        "#     if obj[0]==0:\n",
        "#       rect = rectangle_yolo(obj, img_shape, edgecolor='none', facecolor='red')\n",
        "#       ax.add_patch(rect)\n",
        "#     elif obj[0]==1:\n",
        "#       rect = rectangle_yolo(obj, img_shape, edgecolor='none', facecolor='blue')\n",
        "#       ax.add_patch(rect)\n",
        "#     else:\n",
        "#       rect = rectangle_yolo(obj, img_shape, edgecolor='none', facecolor='green')\n",
        "#       ax.add_patch(rect)\n",
        "#   plt.axis('off')\n",
        "#   plt.savefig(save_dir + img_path.split('/')[-1], dpi=200, bbox_inches='tight', pad_inches = 0)"
      ],
      "execution_count": null,
      "outputs": []
    },
    {
      "cell_type": "code",
      "metadata": {
        "id": "IoG_gwMcGrsL"
      },
      "source": [
        "DIR = 'dataset/{}/train/'\n",
        "IMAGE_DIR = DIR.format('images')\n",
        "LABEL_DIR = DIR.format('labels')"
      ],
      "execution_count": null,
      "outputs": []
    },
    {
      "cell_type": "code",
      "metadata": {
        "id": "2AZVWpwilMdx",
        "colab": {
          "base_uri": "https://localhost:8080/"
        },
        "outputId": "fab3016d-2f95-480c-d9fe-a4e1477629f4"
      },
      "source": [
        "save_bounded_box_img(IMAGE_DIR+\"100.jpg\", LABEL_DIR+\"100.txt\")"
      ],
      "execution_count": null,
      "outputs": [
        {
          "output_type": "stream",
          "name": "stdout",
          "text": [
            "(720, 1280)\n"
          ]
        }
      ]
    },
    {
      "cell_type": "code",
      "metadata": {
        "colab": {
          "base_uri": "https://localhost:8080/",
          "height": 257
        },
        "id": "qibonQsvOYNM",
        "outputId": "ca8cdbe9-a5bc-4ab6-d608-4331ce2950bd"
      },
      "source": [
        "im = Image.open(\"100.jpg\")\n",
        "plt.imshow(im)"
      ],
      "execution_count": null,
      "outputs": [
        {
          "output_type": "execute_result",
          "data": {
            "text/plain": [
              "<matplotlib.image.AxesImage at 0x7f84ecafe410>"
            ]
          },
          "metadata": {},
          "execution_count": 91
        },
        {
          "output_type": "display_data",
          "data": {
            "image/png": "[encoded data removed]",
            "text/plain": [
              "<Figure size 432x288 with 1 Axes>"
            ]
          },
          "metadata": {
            "needs_background": "light"
          }
        }
      ]
    },
    {
      "cell_type": "code",
      "metadata": {
        "id": "LdNbfcwTv3QV",
        "colab": {
          "base_uri": "https://localhost:8080/",
          "height": 1000
        },
        "outputId": "f1881cfc-95f2-4e6e-c925-1c6af300f621"
      },
      "source": [
        "!mkdir gen_data\n",
        "\n",
        "save_dir = 'gen_data/'\n",
        "for file_name in os.listdir(IMAGE_DIR):\n",
        "  img_path = IMAGE_DIR + file_name\n",
        "  lbl_path = LABEL_DIR + file_name[:-3] + 'txt'\n",
        "  save_bounded_box_img(img_path, lbl_path, save_dir)\n",
        "  plt.clf()"
      ],
      "execution_count": null,
      "outputs": [
        {
          "output_type": "stream",
          "name": "stderr",
          "text": [
            "/usr/local/lib/python3.7/dist-packages/ipykernel_launcher.py:27: RuntimeWarning: More than 20 figures have been opened. Figures created through the pyplot interface (`matplotlib.pyplot.figure`) are retained until explicitly closed and may consume too much memory. (To control this warning, see the rcParam `figure.max_open_warning`).\n"
          ]
        },
        {
          "output_type": "display_data",
          "data": {
            "text/plain": [
              "<Figure size 432x288 with 0 Axes>"
            ]
          },
          "metadata": {}
        },
        {
          "output_type": "display_data",
          "data": {
            "text/plain": [
              "<Figure size 432x288 with 0 Axes>"
            ]
          },
          "metadata": {}
        },
        {
          "output_type": "display_data",
          "data": {
            "text/plain": [
              "<Figure size 432x288 with 0 Axes>"
            ]
          },
          "metadata": {}
        },
        {
          "output_type": "display_data",
          "data": {
            "text/plain": [
              "<Figure size 432x288 with 0 Axes>"
            ]
          },
          "metadata": {}
        },
        {
          "output_type": "display_data",
          "data": {
            "text/plain": [
              "<Figure size 432x288 with 0 Axes>"
            ]
          },
          "metadata": {}
        },
        {
          "output_type": "display_data",
          "data": {
            "text/plain": [
              "<Figure size 432x288 with 0 Axes>"
            ]
          },
          "metadata": {}
        },
        {
          "output_type": "display_data",
          "data": {
            "text/plain": [
              "<Figure size 432x288 with 0 Axes>"
            ]
          },
          "metadata": {}
        },
        {
          "output_type": "display_data",
          "data": {
            "text/plain": [
              "<Figure size 432x288 with 0 Axes>"
            ]
          },
          "metadata": {}
        },
        {
          "output_type": "display_data",
          "data": {
            "text/plain": [
              "<Figure size 432x288 with 0 Axes>"
            ]
          },
          "metadata": {}
        },
        {
          "output_type": "display_data",
          "data": {
            "text/plain": [
              "<Figure size 432x288 with 0 Axes>"
            ]
          },
          "metadata": {}
        },
        {
          "output_type": "display_data",
          "data": {
            "text/plain": [
              "<Figure size 432x288 with 0 Axes>"
            ]
          },
          "metadata": {}
        },
        {
          "output_type": "display_data",
          "data": {
            "text/plain": [
              "<Figure size 432x288 with 0 Axes>"
            ]
          },
          "metadata": {}
        },
        {
          "output_type": "display_data",
          "data": {
            "text/plain": [
              "<Figure size 432x288 with 0 Axes>"
            ]
          },
          "metadata": {}
        },
        {
          "output_type": "display_data",
          "data": {
            "text/plain": [
              "<Figure size 432x288 with 0 Axes>"
            ]
          },
          "metadata": {}
        },
        {
          "output_type": "display_data",
          "data": {
            "text/plain": [
              "<Figure size 432x288 with 0 Axes>"
            ]
          },
          "metadata": {}
        },
        {
          "output_type": "display_data",
          "data": {
            "text/plain": [
              "<Figure size 432x288 with 0 Axes>"
            ]
          },
          "metadata": {}
        },
        {
          "output_type": "display_data",
          "data": {
            "text/plain": [
              "<Figure size 432x288 with 0 Axes>"
            ]
          },
          "metadata": {}
        },
        {
          "output_type": "display_data",
          "data": {
            "text/plain": [
              "<Figure size 432x288 with 0 Axes>"
            ]
          },
          "metadata": {}
        },
        {
          "output_type": "display_data",
          "data": {
            "text/plain": [
              "<Figure size 432x288 with 0 Axes>"
            ]
          },
          "metadata": {}
        },
        {
          "output_type": "display_data",
          "data": {
            "text/plain": [
              "<Figure size 432x288 with 0 Axes>"
            ]
          },
          "metadata": {}
        },
        {
          "output_type": "display_data",
          "data": {
            "text/plain": [
              "<Figure size 432x288 with 0 Axes>"
            ]
          },
          "metadata": {}
        },
        {
          "output_type": "display_data",
          "data": {
            "text/plain": [
              "<Figure size 432x288 with 0 Axes>"
            ]
          },
          "metadata": {}
        },
        {
          "output_type": "display_data",
          "data": {
            "text/plain": [
              "<Figure size 432x288 with 0 Axes>"
            ]
          },
          "metadata": {}
        },
        {
          "output_type": "display_data",
          "data": {
            "text/plain": [
              "<Figure size 432x288 with 0 Axes>"
            ]
          },
          "metadata": {}
        },
        {
          "output_type": "display_data",
          "data": {
            "text/plain": [
              "<Figure size 432x288 with 0 Axes>"
            ]
          },
          "metadata": {}
        },
        {
          "output_type": "display_data",
          "data": {
            "text/plain": [
              "<Figure size 432x288 with 0 Axes>"
            ]
          },
          "metadata": {}
        },
        {
          "output_type": "display_data",
          "data": {
            "text/plain": [
              "<Figure size 432x288 with 0 Axes>"
            ]
          },
          "metadata": {}
        },
        {
          "output_type": "display_data",
          "data": {
            "text/plain": [
              "<Figure size 432x288 with 0 Axes>"
            ]
          },
          "metadata": {}
        },
        {
          "output_type": "display_data",
          "data": {
            "text/plain": [
              "<Figure size 432x288 with 0 Axes>"
            ]
          },
          "metadata": {}
        },
        {
          "output_type": "display_data",
          "data": {
            "text/plain": [
              "<Figure size 432x288 with 0 Axes>"
            ]
          },
          "metadata": {}
        },
        {
          "output_type": "display_data",
          "data": {
            "text/plain": [
              "<Figure size 432x288 with 0 Axes>"
            ]
          },
          "metadata": {}
        },
        {
          "output_type": "display_data",
          "data": {
            "text/plain": [
              "<Figure size 432x288 with 0 Axes>"
            ]
          },
          "metadata": {}
        },
        {
          "output_type": "display_data",
          "data": {
            "text/plain": [
              "<Figure size 432x288 with 0 Axes>"
            ]
          },
          "metadata": {}
        },
        {
          "output_type": "display_data",
          "data": {
            "text/plain": [
              "<Figure size 432x288 with 0 Axes>"
            ]
          },
          "metadata": {}
        },
        {
          "output_type": "display_data",
          "data": {
            "text/plain": [
              "<Figure size 432x288 with 0 Axes>"
            ]
          },
          "metadata": {}
        },
        {
          "output_type": "display_data",
          "data": {
            "text/plain": [
              "<Figure size 432x288 with 0 Axes>"
            ]
          },
          "metadata": {}
        },
        {
          "output_type": "display_data",
          "data": {
            "text/plain": [
              "<Figure size 432x288 with 0 Axes>"
            ]
          },
          "metadata": {}
        },
        {
          "output_type": "display_data",
          "data": {
            "text/plain": [
              "<Figure size 432x288 with 0 Axes>"
            ]
          },
          "metadata": {}
        },
        {
          "output_type": "display_data",
          "data": {
            "text/plain": [
              "<Figure size 432x288 with 0 Axes>"
            ]
          },
          "metadata": {}
        },
        {
          "output_type": "display_data",
          "data": {
            "text/plain": [
              "<Figure size 432x288 with 0 Axes>"
            ]
          },
          "metadata": {}
        },
        {
          "output_type": "display_data",
          "data": {
            "text/plain": [
              "<Figure size 432x288 with 0 Axes>"
            ]
          },
          "metadata": {}
        },
        {
          "output_type": "display_data",
          "data": {
            "text/plain": [
              "<Figure size 432x288 with 0 Axes>"
            ]
          },
          "metadata": {}
        },
        {
          "output_type": "display_data",
          "data": {
            "text/plain": [
              "<Figure size 432x288 with 0 Axes>"
            ]
          },
          "metadata": {}
        },
        {
          "output_type": "display_data",
          "data": {
            "text/plain": [
              "<Figure size 432x288 with 0 Axes>"
            ]
          },
          "metadata": {}
        },
        {
          "output_type": "display_data",
          "data": {
            "text/plain": [
              "<Figure size 432x288 with 0 Axes>"
            ]
          },
          "metadata": {}
        },
        {
          "output_type": "display_data",
          "data": {
            "text/plain": [
              "<Figure size 432x288 with 0 Axes>"
            ]
          },
          "metadata": {}
        },
        {
          "output_type": "display_data",
          "data": {
            "text/plain": [
              "<Figure size 432x288 with 0 Axes>"
            ]
          },
          "metadata": {}
        },
        {
          "output_type": "display_data",
          "data": {
            "text/plain": [
              "<Figure size 432x288 with 0 Axes>"
            ]
          },
          "metadata": {}
        },
        {
          "output_type": "display_data",
          "data": {
            "text/plain": [
              "<Figure size 432x288 with 0 Axes>"
            ]
          },
          "metadata": {}
        },
        {
          "output_type": "display_data",
          "data": {
            "text/plain": [
              "<Figure size 432x288 with 0 Axes>"
            ]
          },
          "metadata": {}
        },
        {
          "output_type": "display_data",
          "data": {
            "text/plain": [
              "<Figure size 432x288 with 0 Axes>"
            ]
          },
          "metadata": {}
        },
        {
          "output_type": "display_data",
          "data": {
            "text/plain": [
              "<Figure size 432x288 with 0 Axes>"
            ]
          },
          "metadata": {}
        },
        {
          "output_type": "display_data",
          "data": {
            "text/plain": [
              "<Figure size 432x288 with 0 Axes>"
            ]
          },
          "metadata": {}
        },
        {
          "output_type": "display_data",
          "data": {
            "text/plain": [
              "<Figure size 432x288 with 0 Axes>"
            ]
          },
          "metadata": {}
        },
        {
          "output_type": "display_data",
          "data": {
            "text/plain": [
              "<Figure size 432x288 with 0 Axes>"
            ]
          },
          "metadata": {}
        },
        {
          "output_type": "display_data",
          "data": {
            "text/plain": [
              "<Figure size 432x288 with 0 Axes>"
            ]
          },
          "metadata": {}
        },
        {
          "output_type": "display_data",
          "data": {
            "text/plain": [
              "<Figure size 432x288 with 0 Axes>"
            ]
          },
          "metadata": {}
        },
        {
          "output_type": "display_data",
          "data": {
            "text/plain": [
              "<Figure size 432x288 with 0 Axes>"
            ]
          },
          "metadata": {}
        },
        {
          "output_type": "display_data",
          "data": {
            "text/plain": [
              "<Figure size 432x288 with 0 Axes>"
            ]
          },
          "metadata": {}
        },
        {
          "output_type": "display_data",
          "data": {
            "text/plain": [
              "<Figure size 432x288 with 0 Axes>"
            ]
          },
          "metadata": {}
        },
        {
          "output_type": "display_data",
          "data": {
            "text/plain": [
              "<Figure size 432x288 with 0 Axes>"
            ]
          },
          "metadata": {}
        },
        {
          "output_type": "display_data",
          "data": {
            "text/plain": [
              "<Figure size 432x288 with 0 Axes>"
            ]
          },
          "metadata": {}
        },
        {
          "output_type": "display_data",
          "data": {
            "text/plain": [
              "<Figure size 432x288 with 0 Axes>"
            ]
          },
          "metadata": {}
        },
        {
          "output_type": "display_data",
          "data": {
            "text/plain": [
              "<Figure size 432x288 with 0 Axes>"
            ]
          },
          "metadata": {}
        },
        {
          "output_type": "display_data",
          "data": {
            "text/plain": [
              "<Figure size 432x288 with 0 Axes>"
            ]
          },
          "metadata": {}
        },
        {
          "output_type": "display_data",
          "data": {
            "text/plain": [
              "<Figure size 432x288 with 0 Axes>"
            ]
          },
          "metadata": {}
        },
        {
          "output_type": "display_data",
          "data": {
            "text/plain": [
              "<Figure size 432x288 with 0 Axes>"
            ]
          },
          "metadata": {}
        },
        {
          "output_type": "display_data",
          "data": {
            "text/plain": [
              "<Figure size 432x288 with 0 Axes>"
            ]
          },
          "metadata": {}
        },
        {
          "output_type": "display_data",
          "data": {
            "text/plain": [
              "<Figure size 432x288 with 0 Axes>"
            ]
          },
          "metadata": {}
        },
        {
          "output_type": "display_data",
          "data": {
            "text/plain": [
              "<Figure size 432x288 with 0 Axes>"
            ]
          },
          "metadata": {}
        },
        {
          "output_type": "display_data",
          "data": {
            "text/plain": [
              "<Figure size 432x288 with 0 Axes>"
            ]
          },
          "metadata": {}
        },
        {
          "output_type": "display_data",
          "data": {
            "text/plain": [
              "<Figure size 432x288 with 0 Axes>"
            ]
          },
          "metadata": {}
        },
        {
          "output_type": "display_data",
          "data": {
            "text/plain": [
              "<Figure size 432x288 with 0 Axes>"
            ]
          },
          "metadata": {}
        },
        {
          "output_type": "display_data",
          "data": {
            "text/plain": [
              "<Figure size 432x288 with 0 Axes>"
            ]
          },
          "metadata": {}
        },
        {
          "output_type": "display_data",
          "data": {
            "text/plain": [
              "<Figure size 432x288 with 0 Axes>"
            ]
          },
          "metadata": {}
        },
        {
          "output_type": "display_data",
          "data": {
            "text/plain": [
              "<Figure size 432x288 with 0 Axes>"
            ]
          },
          "metadata": {}
        },
        {
          "output_type": "display_data",
          "data": {
            "text/plain": [
              "<Figure size 432x288 with 0 Axes>"
            ]
          },
          "metadata": {}
        },
        {
          "output_type": "display_data",
          "data": {
            "text/plain": [
              "<Figure size 432x288 with 0 Axes>"
            ]
          },
          "metadata": {}
        },
        {
          "output_type": "display_data",
          "data": {
            "text/plain": [
              "<Figure size 432x288 with 0 Axes>"
            ]
          },
          "metadata": {}
        },
        {
          "output_type": "display_data",
          "data": {
            "text/plain": [
              "<Figure size 432x288 with 0 Axes>"
            ]
          },
          "metadata": {}
        },
        {
          "output_type": "display_data",
          "data": {
            "text/plain": [
              "<Figure size 432x288 with 0 Axes>"
            ]
          },
          "metadata": {}
        },
        {
          "output_type": "display_data",
          "data": {
            "text/plain": [
              "<Figure size 432x288 with 0 Axes>"
            ]
          },
          "metadata": {}
        },
        {
          "output_type": "display_data",
          "data": {
            "text/plain": [
              "<Figure size 432x288 with 0 Axes>"
            ]
          },
          "metadata": {}
        },
        {
          "output_type": "display_data",
          "data": {
            "text/plain": [
              "<Figure size 432x288 with 0 Axes>"
            ]
          },
          "metadata": {}
        },
        {
          "output_type": "display_data",
          "data": {
            "text/plain": [
              "<Figure size 432x288 with 0 Axes>"
            ]
          },
          "metadata": {}
        },
        {
          "output_type": "display_data",
          "data": {
            "text/plain": [
              "<Figure size 432x288 with 0 Axes>"
            ]
          },
          "metadata": {}
        },
        {
          "output_type": "display_data",
          "data": {
            "text/plain": [
              "<Figure size 432x288 with 0 Axes>"
            ]
          },
          "metadata": {}
        },
        {
          "output_type": "display_data",
          "data": {
            "text/plain": [
              "<Figure size 432x288 with 0 Axes>"
            ]
          },
          "metadata": {}
        }
      ]
    },
    {
      "cell_type": "code",
      "metadata": {
        "id": "zLXaV1OXEsfU"
      },
      "source": [
        ""
      ],
      "execution_count": null,
      "outputs": []
    }
  ]
}